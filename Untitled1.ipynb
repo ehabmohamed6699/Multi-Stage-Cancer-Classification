{
 "cells": [
  {
   "cell_type": "code",
   "execution_count": 2,
   "id": "8e75ae53",
   "metadata": {},
   "outputs": [],
   "source": [
    "import cv2\n",
    "import os\n",
    "import matplotlib.pyplot as plt\n",
    "import numpy as np \n",
    "from tensorflow.keras import datasets,layers,models,utils\n",
    "import tensorflow as tf\n",
    "import pandas as pd"
   ]
  },
  {
   "cell_type": "code",
   "execution_count": 2,
   "id": "0b3408e8",
   "metadata": {},
   "outputs": [
    {
     "data": {
      "text/plain": [
       "1"
      ]
     },
     "execution_count": 2,
     "metadata": {},
     "output_type": "execute_result"
    }
   ],
   "source": [
    "gpus = tf.config.experimental.list_physical_devices(\"GPU\")\n",
    "len(gpus)"
   ]
  },
  {
   "cell_type": "code",
   "execution_count": 3,
   "id": "c2b3603f",
   "metadata": {},
   "outputs": [],
   "source": [
    "for gpu in gpus:\n",
    "    tf.config.experimental.set_memory_growth(gpu, True)"
   ]
  },
  {
   "cell_type": "code",
   "execution_count": 4,
   "id": "377f2a1e",
   "metadata": {},
   "outputs": [
    {
     "name": "stdout",
     "output_type": "stream",
     "text": [
      "Found 681 files belonging to 3 classes.\n"
     ]
    }
   ],
   "source": [
    "data = utils.image_dataset_from_directory(\"Breast scans train\")"
   ]
  },
  {
   "cell_type": "code",
   "execution_count": 5,
   "id": "fcf1d120",
   "metadata": {},
   "outputs": [],
   "source": [
    "data = data.map(lambda x,y:(x/255, y))"
   ]
  },
  {
   "cell_type": "code",
   "execution_count": 6,
   "id": "7fbbb6d4",
   "metadata": {},
   "outputs": [],
   "source": [
    "train_size = int(len(data) * 0.8)\n",
    "val_size = int(len(data) * 0.2) +1"
   ]
  },
  {
   "cell_type": "code",
   "execution_count": 7,
   "id": "bb05aab1",
   "metadata": {},
   "outputs": [],
   "source": [
    "train_data = data.take(train_size)\n",
    "val_data = data.skip(train_size).take(val_size)"
   ]
  },
  {
   "cell_type": "code",
   "execution_count": 4,
   "id": "9bdc0c0e",
   "metadata": {},
   "outputs": [
    {
     "name": "stdout",
     "output_type": "stream",
     "text": [
      "Found 99 files belonging to 3 classes.\n"
     ]
    }
   ],
   "source": [
    "test_data = utils.image_dataset_from_directory(\"Breast scans test\")\n",
    "test_data = test_data.map(lambda x,y:(x/255, y))\n",
    "test_data = test_data.take(len(test_data))"
   ]
  },
  {
   "cell_type": "code",
   "execution_count": 9,
   "id": "8c73605d",
   "metadata": {},
   "outputs": [],
   "source": [
    "model = models.Sequential()"
   ]
  },
  {
   "cell_type": "code",
   "execution_count": 10,
   "id": "0e71c8ff",
   "metadata": {},
   "outputs": [],
   "source": [
    "#Layer 1\n",
    "model.add(layers.Conv2D(16, (3,3), 1, activation = \"relu\", input_shape = (256,256,3)))\n",
    "model.add(layers.MaxPooling2D())\n",
    "#Layer 2\n",
    "model.add(layers.Conv2D(32, (3,3), 1, activation = \"relu\"))\n",
    "model.add(layers.MaxPooling2D())\n",
    "#Layer 3\n",
    "model.add(layers.Conv2D(16, (3,3), 1, activation = \"relu\"))\n",
    "model.add(layers.MaxPooling2D())\n",
    "#Final Layer\n",
    "model.add(layers.Flatten())\n",
    "#Fully Connected\n",
    "model.add(layers.Dense(256, activation=\"relu\"))\n",
    "model.add(layers.Dense(3, activation=\"softmax\"))"
   ]
  },
  {
   "cell_type": "code",
   "execution_count": 11,
   "id": "4a3f96e9",
   "metadata": {},
   "outputs": [],
   "source": [
    "model.compile(optimizer = \"adam\", loss = \"sparse_categorical_crossentropy\", metrics = [\"accuracy\"])"
   ]
  },
  {
   "cell_type": "code",
   "execution_count": 12,
   "id": "4e7ff7f1",
   "metadata": {},
   "outputs": [
    {
     "name": "stdout",
     "output_type": "stream",
     "text": [
      "Model: \"sequential\"\n",
      "_________________________________________________________________\n",
      "Layer (type)                 Output Shape              Param #   \n",
      "=================================================================\n",
      "conv2d (Conv2D)              (None, 254, 254, 16)      448       \n",
      "_________________________________________________________________\n",
      "max_pooling2d (MaxPooling2D) (None, 127, 127, 16)      0         \n",
      "_________________________________________________________________\n",
      "conv2d_1 (Conv2D)            (None, 125, 125, 32)      4640      \n",
      "_________________________________________________________________\n",
      "max_pooling2d_1 (MaxPooling2 (None, 62, 62, 32)        0         \n",
      "_________________________________________________________________\n",
      "conv2d_2 (Conv2D)            (None, 60, 60, 16)        4624      \n",
      "_________________________________________________________________\n",
      "max_pooling2d_2 (MaxPooling2 (None, 30, 30, 16)        0         \n",
      "_________________________________________________________________\n",
      "flatten (Flatten)            (None, 14400)             0         \n",
      "_________________________________________________________________\n",
      "dense (Dense)                (None, 256)               3686656   \n",
      "_________________________________________________________________\n",
      "dense_1 (Dense)              (None, 3)                 771       \n",
      "=================================================================\n",
      "Total params: 3,697,139\n",
      "Trainable params: 3,697,139\n",
      "Non-trainable params: 0\n",
      "_________________________________________________________________\n"
     ]
    }
   ],
   "source": [
    "model.summary()"
   ]
  },
  {
   "cell_type": "code",
   "execution_count": 13,
   "id": "2086ed26",
   "metadata": {},
   "outputs": [],
   "source": [
    "logdir = 'logs'\n",
    "tensorboard_callback = tf.keras.callbacks.TensorBoard(log_dir = logdir)"
   ]
  },
  {
   "cell_type": "code",
   "execution_count": null,
   "id": "f17bb7e2",
   "metadata": {},
   "outputs": [
    {
     "name": "stdout",
     "output_type": "stream",
     "text": [
      "Epoch 1/20\n"
     ]
    }
   ],
   "source": [
    "hist = model.fit(train_data, epochs = 20, validation_data = val_data, callbacks = [tensorboard_callback])"
   ]
  },
  {
   "cell_type": "code",
   "execution_count": 3,
   "id": "ca52bcef",
   "metadata": {},
   "outputs": [],
   "source": [
    "loaded_model = tf.keras.models.load_model('./BreastNN')"
   ]
  },
  {
   "cell_type": "code",
   "execution_count": 4,
   "id": "bc05f079",
   "metadata": {},
   "outputs": [],
   "source": [
    "test_benign = tf.image.resize(cv2.imread(\".\\Breast scans\\\\benign\\Test\\\\benign (429).png\"), (256,256))\n",
    "test_malignant = tf.image.resize(cv2.imread(\".\\Breast scans\\malignant\\Test\\malignant (204).png\"), (256,256))\n",
    "test_normal = tf.image.resize(cv2.imread(\".\\Breast scans\\\\normal\\Test\\\\normal (131).png\"), (256,256))"
   ]
  },
  {
   "cell_type": "code",
   "execution_count": 1,
   "id": "5bd6d36c",
   "metadata": {},
   "outputs": [
    {
     "ename": "NameError",
     "evalue": "name 'loaded_model' is not defined",
     "output_type": "error",
     "traceback": [
      "\u001b[1;31m---------------------------------------------------------------------------\u001b[0m",
      "\u001b[1;31mNameError\u001b[0m                                 Traceback (most recent call last)",
      "\u001b[1;32m<ipython-input-1-16819a921189>\u001b[0m in \u001b[0;36m<module>\u001b[1;34m\u001b[0m\n\u001b[1;32m----> 1\u001b[1;33m \u001b[0mpred_benign\u001b[0m \u001b[1;33m=\u001b[0m \u001b[0mloaded_model\u001b[0m\u001b[1;33m.\u001b[0m\u001b[0mpredict\u001b[0m\u001b[1;33m(\u001b[0m\u001b[0mnp\u001b[0m\u001b[1;33m.\u001b[0m\u001b[0mexpand_dims\u001b[0m\u001b[1;33m(\u001b[0m\u001b[0mtest_benign\u001b[0m \u001b[1;33m/\u001b[0m \u001b[1;36m255\u001b[0m \u001b[1;33m,\u001b[0m \u001b[1;36m0\u001b[0m\u001b[1;33m)\u001b[0m\u001b[1;33m)\u001b[0m\u001b[1;33m\u001b[0m\u001b[1;33m\u001b[0m\u001b[0m\n\u001b[0m",
      "\u001b[1;31mNameError\u001b[0m: name 'loaded_model' is not defined"
     ]
    }
   ],
   "source": [
    "pred_benign = loaded_model.predict(np.expand_dims(test_benign / 255 , 0))\n",
    "pred_malignant = loaded_model.predict(np.expand_dims(test_malignant / 255 , 0))\n",
    "pred_normal = loaded_model.predict(np.expand_dims(test_normal / 255 , 0))"
   ]
  },
  {
   "cell_type": "code",
   "execution_count": null,
   "id": "cf4419bd",
   "metadata": {},
   "outputs": [],
   "source": []
  }
 ],
 "metadata": {
  "kernelspec": {
   "display_name": "computervision",
   "language": "python",
   "name": "computervision"
  },
  "language_info": {
   "codemirror_mode": {
    "name": "ipython",
    "version": 3
   },
   "file_extension": ".py",
   "mimetype": "text/x-python",
   "name": "python",
   "nbconvert_exporter": "python",
   "pygments_lexer": "ipython3",
   "version": "3.6.13"
  }
 },
 "nbformat": 4,
 "nbformat_minor": 5
}
