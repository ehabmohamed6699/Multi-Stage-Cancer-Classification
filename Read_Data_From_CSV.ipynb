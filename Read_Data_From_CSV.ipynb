{
 "cells": [
  {
   "cell_type": "code",
   "execution_count": 1,
   "id": "74a872e1",
   "metadata": {},
   "outputs": [],
   "source": [
    "import numpy as np\n",
    "import pandas as pd\n",
    "import cv2\n",
    "import os\n",
    "from matplotlib import pyplot as plt"
   ]
  },
  {
   "cell_type": "code",
   "execution_count": 2,
   "id": "2bf4285d",
   "metadata": {},
   "outputs": [
    {
     "data": {
      "text/html": [
       "<div>\n",
       "<style scoped>\n",
       "    .dataframe tbody tr th:only-of-type {\n",
       "        vertical-align: middle;\n",
       "    }\n",
       "\n",
       "    .dataframe tbody tr th {\n",
       "        vertical-align: top;\n",
       "    }\n",
       "\n",
       "    .dataframe thead th {\n",
       "        text-align: right;\n",
       "    }\n",
       "</style>\n",
       "<table border=\"1\" class=\"dataframe\">\n",
       "  <thead>\n",
       "    <tr style=\"text-align: right;\">\n",
       "      <th></th>\n",
       "      <th>path</th>\n",
       "      <th>diagnose</th>\n",
       "    </tr>\n",
       "  </thead>\n",
       "  <tbody>\n",
       "    <tr>\n",
       "      <th>0</th>\n",
       "      <td>./Brain scans\\Tumor\\TRAIN\\y0.jpg</td>\n",
       "      <td>tumor</td>\n",
       "    </tr>\n",
       "    <tr>\n",
       "      <th>1</th>\n",
       "      <td>./Brain scans\\Tumor\\TRAIN\\y1.jpg</td>\n",
       "      <td>tumor</td>\n",
       "    </tr>\n",
       "    <tr>\n",
       "      <th>2</th>\n",
       "      <td>./Brain scans\\Tumor\\TRAIN\\y10.jpg</td>\n",
       "      <td>tumor</td>\n",
       "    </tr>\n",
       "    <tr>\n",
       "      <th>3</th>\n",
       "      <td>./Brain scans\\Tumor\\TRAIN\\y100.jpg</td>\n",
       "      <td>tumor</td>\n",
       "    </tr>\n",
       "    <tr>\n",
       "      <th>4</th>\n",
       "      <td>./Brain scans\\Tumor\\TRAIN\\y101.jpg</td>\n",
       "      <td>tumor</td>\n",
       "    </tr>\n",
       "    <tr>\n",
       "      <th>...</th>\n",
       "      <td>...</td>\n",
       "      <td>...</td>\n",
       "    </tr>\n",
       "    <tr>\n",
       "      <th>996</th>\n",
       "      <td>./Brain scans/No tumor\\Train\\no95.jpg</td>\n",
       "      <td>no tumor</td>\n",
       "    </tr>\n",
       "    <tr>\n",
       "      <th>997</th>\n",
       "      <td>./Brain scans/No tumor\\Train\\no96.jpg</td>\n",
       "      <td>no tumor</td>\n",
       "    </tr>\n",
       "    <tr>\n",
       "      <th>998</th>\n",
       "      <td>./Brain scans/No tumor\\Train\\no97.jpg</td>\n",
       "      <td>no tumor</td>\n",
       "    </tr>\n",
       "    <tr>\n",
       "      <th>999</th>\n",
       "      <td>./Brain scans/No tumor\\Train\\no98.jpg</td>\n",
       "      <td>no tumor</td>\n",
       "    </tr>\n",
       "    <tr>\n",
       "      <th>1000</th>\n",
       "      <td>./Brain scans/No tumor\\Train\\no99.jpg</td>\n",
       "      <td>no tumor</td>\n",
       "    </tr>\n",
       "  </tbody>\n",
       "</table>\n",
       "<p>1001 rows × 2 columns</p>\n",
       "</div>"
      ],
      "text/plain": [
       "                                       path  diagnose\n",
       "0          ./Brain scans\\Tumor\\TRAIN\\y0.jpg     tumor\n",
       "1          ./Brain scans\\Tumor\\TRAIN\\y1.jpg     tumor\n",
       "2         ./Brain scans\\Tumor\\TRAIN\\y10.jpg     tumor\n",
       "3        ./Brain scans\\Tumor\\TRAIN\\y100.jpg     tumor\n",
       "4        ./Brain scans\\Tumor\\TRAIN\\y101.jpg     tumor\n",
       "...                                     ...       ...\n",
       "996   ./Brain scans/No tumor\\Train\\no95.jpg  no tumor\n",
       "997   ./Brain scans/No tumor\\Train\\no96.jpg  no tumor\n",
       "998   ./Brain scans/No tumor\\Train\\no97.jpg  no tumor\n",
       "999   ./Brain scans/No tumor\\Train\\no98.jpg  no tumor\n",
       "1000  ./Brain scans/No tumor\\Train\\no99.jpg  no tumor\n",
       "\n",
       "[1001 rows x 2 columns]"
      ]
     },
     "execution_count": 2,
     "metadata": {},
     "output_type": "execute_result"
    }
   ],
   "source": [
    "df = pd.read_csv(\"./brain_train.csv\")\n",
    "df"
   ]
  },
  {
   "cell_type": "code",
   "execution_count": 3,
   "id": "b7c2448f",
   "metadata": {},
   "outputs": [
    {
     "data": {
      "text/plain": [
       "'./Brain scans\\\\Tumor\\\\TRAIN\\\\y0.jpg'"
      ]
     },
     "execution_count": 3,
     "metadata": {},
     "output_type": "execute_result"
    }
   ],
   "source": [
    "type(df[\"path\"][0])\n",
    "df[\"path\"][0]"
   ]
  },
  {
   "cell_type": "code",
   "execution_count": 4,
   "id": "180304c5",
   "metadata": {},
   "outputs": [],
   "source": [
    "img = cv2.imread(df[\"path\"][0], 0)"
   ]
  },
  {
   "cell_type": "code",
   "execution_count": 5,
   "id": "9aceb877",
   "metadata": {},
   "outputs": [
    {
     "data": {
      "text/plain": [
       "numpy.ndarray"
      ]
     },
     "execution_count": 5,
     "metadata": {},
     "output_type": "execute_result"
    }
   ],
   "source": [
    "type(img)"
   ]
  },
  {
   "cell_type": "code",
   "execution_count": 6,
   "id": "5962eacb",
   "metadata": {},
   "outputs": [
    {
     "data": {
      "text/plain": [
       "<matplotlib.image.AxesImage at 0x25321d5c278>"
      ]
     },
     "execution_count": 6,
     "metadata": {},
     "output_type": "execute_result"
    },
    {
     "data": {
      "image/png": "[encoded data removed]",
      "text/plain": [
       "<Figure size 432x288 with 1 Axes>"
      ]
     },
     "metadata": {
      "needs_background": "light"
     },
     "output_type": "display_data"
    }
   ],
   "source": [
    "plt.imshow(img)"
   ]
  },
  {
   "cell_type": "code",
   "execution_count": 7,
   "id": "4e3a0810",
   "metadata": {},
   "outputs": [
    {
     "data": {
      "text/plain": [
       "list"
      ]
     },
     "execution_count": 7,
     "metadata": {},
     "output_type": "execute_result"
    }
   ],
   "source": [
    "images = []\n",
    "for path in df[\"path\"]:\n",
    "    images.append(cv2.resize(cv2.imread(path,0), (300,300)))\n",
    "type(images)"
   ]
  },
  {
   "cell_type": "code",
   "execution_count": 8,
   "id": "b73aa0da",
   "metadata": {},
   "outputs": [
    {
     "data": {
      "text/plain": [
       "array([[0, 0, 0, ..., 0, 0, 0],\n",
       "       [0, 0, 0, ..., 0, 0, 0],\n",
       "       [0, 0, 0, ..., 0, 0, 0],\n",
       "       ...,\n",
       "       [0, 0, 0, ..., 0, 0, 0],\n",
       "       [0, 0, 0, ..., 0, 0, 0],\n",
       "       [0, 0, 0, ..., 0, 0, 0]], dtype=uint8)"
      ]
     },
     "execution_count": 8,
     "metadata": {},
     "output_type": "execute_result"
    }
   ],
   "source": [
    "images[0]"
   ]
  },
  {
   "cell_type": "code",
   "execution_count": 427,
   "id": "d52550f1",
   "metadata": {},
   "outputs": [],
   "source": [
    "orb = cv2.ORB_create(nfeatures = 850)"
   ]
  },
  {
   "cell_type": "code",
   "execution_count": 428,
   "id": "dc275f6a",
   "metadata": {},
   "outputs": [],
   "source": [
    "def Feature_extractor(image, extractor):\n",
    "    kp, des = extractor.detectAndCompute(image, None)\n",
    "    return kp, des"
   ]
  },
  {
   "cell_type": "code",
   "execution_count": 429,
   "id": "1afa9a4a",
   "metadata": {},
   "outputs": [],
   "source": [
    "from sklearn.cluster import KMeans"
   ]
  },
  {
   "cell_type": "code",
   "execution_count": 430,
   "id": "9602cd79",
   "metadata": {},
   "outputs": [],
   "source": [
    "k = 25"
   ]
  },
  {
   "cell_type": "code",
   "execution_count": 431,
   "id": "69a10fb6",
   "metadata": {},
   "outputs": [],
   "source": [
    "kmeans_model = KMeans(n_clusters = k)"
   ]
  },
  {
   "cell_type": "code",
   "execution_count": 432,
   "id": "399f846e",
   "metadata": {},
   "outputs": [],
   "source": [
    "features_list = []\n",
    "for image in images:\n",
    "    kp, des = Feature_extractor(image, orb)\n",
    "    kps.append(kp)\n",
    "    des_list.append((image,kp,des))"
   ]
  },
  {
   "cell_type": "code",
   "execution_count": 433,
   "id": "f7f5fce1",
   "metadata": {},
   "outputs": [
    {
     "data": {
      "image/png": "[encoded data removed]",
      "text/plain": [
       "<Figure size 432x288 with 1 Axes>"
      ]
     },
     "metadata": {
      "needs_background": "light"
     },
     "output_type": "display_data"
    }
   ],
   "source": [
    "test_img = cv2.drawKeypoints(des_list[234][0], kps[234], None, color = (0,255,0), flags = 0)\n",
    "plt.imshow(test_img)\n",
    "plt.show()"
   ]
  },
  {
   "cell_type": "code",
   "execution_count": 434,
   "id": "77bca37d",
   "metadata": {},
   "outputs": [
    {
     "data": {
      "image/png": "[encoded data removed]",
      "text/plain": [
       "<Figure size 432x288 with 1 Axes>"
      ]
     },
     "metadata": {
      "needs_background": "light"
     },
     "output_type": "display_data"
    }
   ],
   "source": [
    "test_img = cv2.drawKeypoints(des_list[723][0], kps[723], None, color = (0,255,255), flags = 0)\n",
    "plt.imshow(test_img)\n",
    "plt.show()"
   ]
  },
  {
   "cell_type": "code",
   "execution_count": 435,
   "id": "517cda4d",
   "metadata": {},
   "outputs": [],
   "source": [
    "descriptors = des_list[0][1]\n",
    "for image, des in des_list[1:]:\n",
    "    descriptors = np.vstack((descriptors, des))"
   ]
  },
  {
   "cell_type": "code",
   "execution_count": 436,
   "id": "ddd7ef8d",
   "metadata": {},
   "outputs": [
    {
     "data": {
      "text/plain": [
       "(740175, 32)"
      ]
     },
     "execution_count": 436,
     "metadata": {},
     "output_type": "execute_result"
    }
   ],
   "source": [
    "descriptors.shape"
   ]
  },
  {
   "cell_type": "code",
   "execution_count": 437,
   "id": "8227b07d",
   "metadata": {},
   "outputs": [
    {
     "data": {
      "text/plain": [
       "KMeans(n_clusters=25)"
      ]
     },
     "execution_count": 437,
     "metadata": {},
     "output_type": "execute_result"
    }
   ],
   "source": [
    "kmeans_model.fit(descriptors)"
   ]
  },
  {
   "cell_type": "code",
   "execution_count": 438,
   "id": "9def6196",
   "metadata": {},
   "outputs": [],
   "source": [
    "codebook = kmeans_model.cluster_centers_"
   ]
  },
  {
   "cell_type": "code",
   "execution_count": 439,
   "id": "d68d1268",
   "metadata": {},
   "outputs": [
    {
     "data": {
      "text/plain": [
       "numpy.ndarray"
      ]
     },
     "execution_count": 439,
     "metadata": {},
     "output_type": "execute_result"
    }
   ],
   "source": [
    "type(codebook)"
   ]
  },
  {
   "cell_type": "code",
   "execution_count": 440,
   "id": "73359186",
   "metadata": {},
   "outputs": [
    {
     "data": {
      "text/plain": [
       "(25, 32)"
      ]
     },
     "execution_count": 440,
     "metadata": {},
     "output_type": "execute_result"
    }
   ],
   "source": [
    "codebook.shape"
   ]
  },
  {
   "cell_type": "code",
   "execution_count": 441,
   "id": "78203cf9",
   "metadata": {},
   "outputs": [
    {
     "data": {
      "text/plain": [
       "(32,)"
      ]
     },
     "execution_count": 441,
     "metadata": {},
     "output_type": "execute_result"
    }
   ],
   "source": [
    "codebook[20].shape"
   ]
  },
  {
   "cell_type": "code",
   "execution_count": 442,
   "id": "34f00181",
   "metadata": {},
   "outputs": [],
   "source": [
    "from scipy.cluster.vq import vq"
   ]
  },
  {
   "cell_type": "code",
   "execution_count": 443,
   "id": "20b57916",
   "metadata": {},
   "outputs": [],
   "source": [
    "visual_words = []"
   ]
  },
  {
   "cell_type": "code",
   "execution_count": 444,
   "id": "893c5dfe",
   "metadata": {},
   "outputs": [],
   "source": [
    "for image, des in des_list[:]:\n",
    "    im_visual_words, distance = vq(des, codebook)\n",
    "    visual_words.append(im_visual_words)"
   ]
  },
  {
   "cell_type": "code",
   "execution_count": 445,
   "id": "e78452fb",
   "metadata": {},
   "outputs": [
    {
     "data": {
      "text/plain": [
       "array([ 6,  9, 21, 21, 17])"
      ]
     },
     "execution_count": 445,
     "metadata": {},
     "output_type": "execute_result"
    }
   ],
   "source": [
    "visual_words[0][:5]"
   ]
  },
  {
   "cell_type": "code",
   "execution_count": 446,
   "id": "7e47a030",
   "metadata": {},
   "outputs": [],
   "source": [
    "frequency_vectors = []\n",
    "for img_visual_words in visual_words:\n",
    "    img_frequency_vector = np.zeros(k)\n",
    "    for word in img_visual_words:\n",
    "        img_frequency_vector[word] += 1\n",
    "    frequency_vectors.append(img_frequency_vector)\n",
    "frequency_vectors = np.stack(frequency_vectors)"
   ]
  },
  {
   "cell_type": "code",
   "execution_count": 447,
   "id": "5003494e",
   "metadata": {},
   "outputs": [
    {
     "data": {
      "text/plain": [
       "1001"
      ]
     },
     "execution_count": 447,
     "metadata": {},
     "output_type": "execute_result"
    }
   ],
   "source": [
    "frequency_vectors.shape[0]"
   ]
  },
  {
   "cell_type": "code",
   "execution_count": 448,
   "id": "ffb654fa",
   "metadata": {},
   "outputs": [],
   "source": [
    "new_df = pd.DataFrame(data = frequency_vectors)"
   ]
  },
  {
   "cell_type": "code",
   "execution_count": 449,
   "id": "a2044db7",
   "metadata": {},
   "outputs": [
    {
     "data": {
      "text/plain": [
       "numpy.ndarray"
      ]
     },
     "execution_count": 449,
     "metadata": {},
     "output_type": "execute_result"
    }
   ],
   "source": [
    "type(frequency_vectors[:,0])"
   ]
  },
  {
   "cell_type": "code",
   "execution_count": 450,
   "id": "f20f0224",
   "metadata": {},
   "outputs": [
    {
     "data": {
      "text/html": [
       "<div>\n",
       "<style scoped>\n",
       "    .dataframe tbody tr th:only-of-type {\n",
       "        vertical-align: middle;\n",
       "    }\n",
       "\n",
       "    .dataframe tbody tr th {\n",
       "        vertical-align: top;\n",
       "    }\n",
       "\n",
       "    .dataframe thead th {\n",
       "        text-align: right;\n",
       "    }\n",
       "</style>\n",
       "<table border=\"1\" class=\"dataframe\">\n",
       "  <thead>\n",
       "    <tr style=\"text-align: right;\">\n",
       "      <th></th>\n",
       "      <th>0</th>\n",
       "      <th>1</th>\n",
       "      <th>2</th>\n",
       "      <th>3</th>\n",
       "      <th>4</th>\n",
       "      <th>5</th>\n",
       "      <th>6</th>\n",
       "      <th>7</th>\n",
       "      <th>8</th>\n",
       "      <th>9</th>\n",
       "      <th>...</th>\n",
       "      <th>15</th>\n",
       "      <th>16</th>\n",
       "      <th>17</th>\n",
       "      <th>18</th>\n",
       "      <th>19</th>\n",
       "      <th>20</th>\n",
       "      <th>21</th>\n",
       "      <th>22</th>\n",
       "      <th>23</th>\n",
       "      <th>24</th>\n",
       "    </tr>\n",
       "  </thead>\n",
       "  <tbody>\n",
       "    <tr>\n",
       "      <th>0</th>\n",
       "      <td>50.0</td>\n",
       "      <td>16.0</td>\n",
       "      <td>18.0</td>\n",
       "      <td>28.0</td>\n",
       "      <td>49.0</td>\n",
       "      <td>22.0</td>\n",
       "      <td>59.0</td>\n",
       "      <td>46.0</td>\n",
       "      <td>23.0</td>\n",
       "      <td>31.0</td>\n",
       "      <td>...</td>\n",
       "      <td>28.0</td>\n",
       "      <td>26.0</td>\n",
       "      <td>44.0</td>\n",
       "      <td>46.0</td>\n",
       "      <td>17.0</td>\n",
       "      <td>32.0</td>\n",
       "      <td>66.0</td>\n",
       "      <td>34.0</td>\n",
       "      <td>20.0</td>\n",
       "      <td>35.0</td>\n",
       "    </tr>\n",
       "    <tr>\n",
       "      <th>1</th>\n",
       "      <td>42.0</td>\n",
       "      <td>32.0</td>\n",
       "      <td>37.0</td>\n",
       "      <td>51.0</td>\n",
       "      <td>31.0</td>\n",
       "      <td>37.0</td>\n",
       "      <td>18.0</td>\n",
       "      <td>30.0</td>\n",
       "      <td>30.0</td>\n",
       "      <td>14.0</td>\n",
       "      <td>...</td>\n",
       "      <td>53.0</td>\n",
       "      <td>47.0</td>\n",
       "      <td>16.0</td>\n",
       "      <td>22.0</td>\n",
       "      <td>13.0</td>\n",
       "      <td>23.0</td>\n",
       "      <td>35.0</td>\n",
       "      <td>27.0</td>\n",
       "      <td>34.0</td>\n",
       "      <td>43.0</td>\n",
       "    </tr>\n",
       "    <tr>\n",
       "      <th>2</th>\n",
       "      <td>37.0</td>\n",
       "      <td>39.0</td>\n",
       "      <td>25.0</td>\n",
       "      <td>39.0</td>\n",
       "      <td>35.0</td>\n",
       "      <td>15.0</td>\n",
       "      <td>20.0</td>\n",
       "      <td>37.0</td>\n",
       "      <td>26.0</td>\n",
       "      <td>17.0</td>\n",
       "      <td>...</td>\n",
       "      <td>57.0</td>\n",
       "      <td>51.0</td>\n",
       "      <td>36.0</td>\n",
       "      <td>12.0</td>\n",
       "      <td>14.0</td>\n",
       "      <td>43.0</td>\n",
       "      <td>27.0</td>\n",
       "      <td>21.0</td>\n",
       "      <td>35.0</td>\n",
       "      <td>58.0</td>\n",
       "    </tr>\n",
       "    <tr>\n",
       "      <th>3</th>\n",
       "      <td>90.0</td>\n",
       "      <td>7.0</td>\n",
       "      <td>11.0</td>\n",
       "      <td>16.0</td>\n",
       "      <td>22.0</td>\n",
       "      <td>18.0</td>\n",
       "      <td>82.0</td>\n",
       "      <td>47.0</td>\n",
       "      <td>26.0</td>\n",
       "      <td>30.0</td>\n",
       "      <td>...</td>\n",
       "      <td>28.0</td>\n",
       "      <td>15.0</td>\n",
       "      <td>21.0</td>\n",
       "      <td>97.0</td>\n",
       "      <td>30.0</td>\n",
       "      <td>33.0</td>\n",
       "      <td>71.0</td>\n",
       "      <td>23.0</td>\n",
       "      <td>9.0</td>\n",
       "      <td>18.0</td>\n",
       "    </tr>\n",
       "    <tr>\n",
       "      <th>4</th>\n",
       "      <td>54.0</td>\n",
       "      <td>5.0</td>\n",
       "      <td>6.0</td>\n",
       "      <td>8.0</td>\n",
       "      <td>17.0</td>\n",
       "      <td>8.0</td>\n",
       "      <td>54.0</td>\n",
       "      <td>54.0</td>\n",
       "      <td>15.0</td>\n",
       "      <td>41.0</td>\n",
       "      <td>...</td>\n",
       "      <td>14.0</td>\n",
       "      <td>10.0</td>\n",
       "      <td>18.0</td>\n",
       "      <td>84.0</td>\n",
       "      <td>35.0</td>\n",
       "      <td>17.0</td>\n",
       "      <td>29.0</td>\n",
       "      <td>33.0</td>\n",
       "      <td>6.0</td>\n",
       "      <td>14.0</td>\n",
       "    </tr>\n",
       "  </tbody>\n",
       "</table>\n",
       "<p>5 rows × 25 columns</p>\n",
       "</div>"
      ],
      "text/plain": [
       "     0     1     2     3     4     5     6     7     8     9   ...    15  \\\n",
       "0  50.0  16.0  18.0  28.0  49.0  22.0  59.0  46.0  23.0  31.0  ...  28.0   \n",
       "1  42.0  32.0  37.0  51.0  31.0  37.0  18.0  30.0  30.0  14.0  ...  53.0   \n",
       "2  37.0  39.0  25.0  39.0  35.0  15.0  20.0  37.0  26.0  17.0  ...  57.0   \n",
       "3  90.0   7.0  11.0  16.0  22.0  18.0  82.0  47.0  26.0  30.0  ...  28.0   \n",
       "4  54.0   5.0   6.0   8.0  17.0   8.0  54.0  54.0  15.0  41.0  ...  14.0   \n",
       "\n",
       "     16    17    18    19    20    21    22    23    24  \n",
       "0  26.0  44.0  46.0  17.0  32.0  66.0  34.0  20.0  35.0  \n",
       "1  47.0  16.0  22.0  13.0  23.0  35.0  27.0  34.0  43.0  \n",
       "2  51.0  36.0  12.0  14.0  43.0  27.0  21.0  35.0  58.0  \n",
       "3  15.0  21.0  97.0  30.0  33.0  71.0  23.0   9.0  18.0  \n",
       "4  10.0  18.0  84.0  35.0  17.0  29.0  33.0   6.0  14.0  \n",
       "\n",
       "[5 rows x 25 columns]"
      ]
     },
     "execution_count": 450,
     "metadata": {},
     "output_type": "execute_result"
    }
   ],
   "source": [
    "new_df.head()"
   ]
  },
  {
   "cell_type": "code",
   "execution_count": 451,
   "id": "e80dd533",
   "metadata": {},
   "outputs": [],
   "source": [
    "new_df = (new_df - new_df.mean()) / new_df.std()"
   ]
  },
  {
   "cell_type": "code",
   "execution_count": 452,
   "id": "e80facf5",
   "metadata": {},
   "outputs": [],
   "source": [
    "new_df['label'] = df['diagnose']"
   ]
  },
  {
   "cell_type": "code",
   "execution_count": 453,
   "id": "53620653",
   "metadata": {},
   "outputs": [
    {
     "data": {
      "text/html": [
       "<div>\n",
       "<style scoped>\n",
       "    .dataframe tbody tr th:only-of-type {\n",
       "        vertical-align: middle;\n",
       "    }\n",
       "\n",
       "    .dataframe tbody tr th {\n",
       "        vertical-align: top;\n",
       "    }\n",
       "\n",
       "    .dataframe thead th {\n",
       "        text-align: right;\n",
       "    }\n",
       "</style>\n",
       "<table border=\"1\" class=\"dataframe\">\n",
       "  <thead>\n",
       "    <tr style=\"text-align: right;\">\n",
       "      <th></th>\n",
       "      <th>0</th>\n",
       "      <th>1</th>\n",
       "      <th>2</th>\n",
       "      <th>3</th>\n",
       "      <th>4</th>\n",
       "      <th>5</th>\n",
       "      <th>6</th>\n",
       "      <th>7</th>\n",
       "      <th>8</th>\n",
       "      <th>9</th>\n",
       "      <th>...</th>\n",
       "      <th>16</th>\n",
       "      <th>17</th>\n",
       "      <th>18</th>\n",
       "      <th>19</th>\n",
       "      <th>20</th>\n",
       "      <th>21</th>\n",
       "      <th>22</th>\n",
       "      <th>23</th>\n",
       "      <th>24</th>\n",
       "      <th>label</th>\n",
       "    </tr>\n",
       "  </thead>\n",
       "  <tbody>\n",
       "    <tr>\n",
       "      <th>0</th>\n",
       "      <td>1.011344</td>\n",
       "      <td>-0.734099</td>\n",
       "      <td>-0.433106</td>\n",
       "      <td>-0.129702</td>\n",
       "      <td>2.221626</td>\n",
       "      <td>-0.374947</td>\n",
       "      <td>1.286216</td>\n",
       "      <td>0.655380</td>\n",
       "      <td>-0.418857</td>\n",
       "      <td>-0.039077</td>\n",
       "      <td>...</td>\n",
       "      <td>-0.364034</td>\n",
       "      <td>1.243448</td>\n",
       "      <td>0.497391</td>\n",
       "      <td>-0.792958</td>\n",
       "      <td>-0.011251</td>\n",
       "      <td>2.262156</td>\n",
       "      <td>0.328950</td>\n",
       "      <td>-0.457601</td>\n",
       "      <td>0.378193</td>\n",
       "      <td>tumor</td>\n",
       "    </tr>\n",
       "    <tr>\n",
       "      <th>1</th>\n",
       "      <td>0.565274</td>\n",
       "      <td>0.021368</td>\n",
       "      <td>0.457407</td>\n",
       "      <td>1.713591</td>\n",
       "      <td>0.311742</td>\n",
       "      <td>0.690905</td>\n",
       "      <td>-0.525736</td>\n",
       "      <td>-0.110290</td>\n",
       "      <td>0.161742</td>\n",
       "      <td>-1.043556</td>\n",
       "      <td>...</td>\n",
       "      <td>1.024527</td>\n",
       "      <td>-0.750565</td>\n",
       "      <td>-0.447593</td>\n",
       "      <td>-1.035232</td>\n",
       "      <td>-0.756568</td>\n",
       "      <td>0.337792</td>\n",
       "      <td>-0.164404</td>\n",
       "      <td>0.153726</td>\n",
       "      <td>0.988053</td>\n",
       "      <td>tumor</td>\n",
       "    </tr>\n",
       "    <tr>\n",
       "      <th>2</th>\n",
       "      <td>0.286481</td>\n",
       "      <td>0.351885</td>\n",
       "      <td>-0.105022</td>\n",
       "      <td>0.751873</td>\n",
       "      <td>0.736161</td>\n",
       "      <td>-0.872345</td>\n",
       "      <td>-0.437348</td>\n",
       "      <td>0.224691</td>\n",
       "      <td>-0.170028</td>\n",
       "      <td>-0.866295</td>\n",
       "      <td>...</td>\n",
       "      <td>1.289015</td>\n",
       "      <td>0.673730</td>\n",
       "      <td>-0.841336</td>\n",
       "      <td>-0.974663</td>\n",
       "      <td>0.899691</td>\n",
       "      <td>-0.158819</td>\n",
       "      <td>-0.587279</td>\n",
       "      <td>0.197392</td>\n",
       "      <td>2.131542</td>\n",
       "      <td>tumor</td>\n",
       "    </tr>\n",
       "    <tr>\n",
       "      <th>3</th>\n",
       "      <td>3.241694</td>\n",
       "      <td>-1.159049</td>\n",
       "      <td>-0.761190</td>\n",
       "      <td>-1.091420</td>\n",
       "      <td>-0.643200</td>\n",
       "      <td>-0.659174</td>\n",
       "      <td>2.302677</td>\n",
       "      <td>0.703234</td>\n",
       "      <td>-0.170028</td>\n",
       "      <td>-0.098164</td>\n",
       "      <td>...</td>\n",
       "      <td>-1.091376</td>\n",
       "      <td>-0.394491</td>\n",
       "      <td>2.505482</td>\n",
       "      <td>-0.005567</td>\n",
       "      <td>0.071562</td>\n",
       "      <td>2.572537</td>\n",
       "      <td>-0.446321</td>\n",
       "      <td>-0.937929</td>\n",
       "      <td>-0.917761</td>\n",
       "      <td>tumor</td>\n",
       "    </tr>\n",
       "    <tr>\n",
       "      <th>4</th>\n",
       "      <td>1.234379</td>\n",
       "      <td>-1.253483</td>\n",
       "      <td>-0.995536</td>\n",
       "      <td>-1.732566</td>\n",
       "      <td>-1.173723</td>\n",
       "      <td>-1.369742</td>\n",
       "      <td>1.065246</td>\n",
       "      <td>1.038214</td>\n",
       "      <td>-1.082398</td>\n",
       "      <td>0.551794</td>\n",
       "      <td>...</td>\n",
       "      <td>-1.421986</td>\n",
       "      <td>-0.608136</td>\n",
       "      <td>1.993616</td>\n",
       "      <td>0.297276</td>\n",
       "      <td>-1.253445</td>\n",
       "      <td>-0.034666</td>\n",
       "      <td>0.258470</td>\n",
       "      <td>-1.068928</td>\n",
       "      <td>-1.222691</td>\n",
       "      <td>tumor</td>\n",
       "    </tr>\n",
       "  </tbody>\n",
       "</table>\n",
       "<p>5 rows × 26 columns</p>\n",
       "</div>"
      ],
      "text/plain": [
       "          0         1         2         3         4         5         6  \\\n",
       "0  1.011344 -0.734099 -0.433106 -0.129702  2.221626 -0.374947  1.286216   \n",
       "1  0.565274  0.021368  0.457407  1.713591  0.311742  0.690905 -0.525736   \n",
       "2  0.286481  0.351885 -0.105022  0.751873  0.736161 -0.872345 -0.437348   \n",
       "3  3.241694 -1.159049 -0.761190 -1.091420 -0.643200 -0.659174  2.302677   \n",
       "4  1.234379 -1.253483 -0.995536 -1.732566 -1.173723 -1.369742  1.065246   \n",
       "\n",
       "          7         8         9  ...        16        17        18        19  \\\n",
       "0  0.655380 -0.418857 -0.039077  ... -0.364034  1.243448  0.497391 -0.792958   \n",
       "1 -0.110290  0.161742 -1.043556  ...  1.024527 -0.750565 -0.447593 -1.035232   \n",
       "2  0.224691 -0.170028 -0.866295  ...  1.289015  0.673730 -0.841336 -0.974663   \n",
       "3  0.703234 -0.170028 -0.098164  ... -1.091376 -0.394491  2.505482 -0.005567   \n",
       "4  1.038214 -1.082398  0.551794  ... -1.421986 -0.608136  1.993616  0.297276   \n",
       "\n",
       "         20        21        22        23        24  label  \n",
       "0 -0.011251  2.262156  0.328950 -0.457601  0.378193  tumor  \n",
       "1 -0.756568  0.337792 -0.164404  0.153726  0.988053  tumor  \n",
       "2  0.899691 -0.158819 -0.587279  0.197392  2.131542  tumor  \n",
       "3  0.071562  2.572537 -0.446321 -0.937929 -0.917761  tumor  \n",
       "4 -1.253445 -0.034666  0.258470 -1.068928 -1.222691  tumor  \n",
       "\n",
       "[5 rows x 26 columns]"
      ]
     },
     "execution_count": 453,
     "metadata": {},
     "output_type": "execute_result"
    }
   ],
   "source": [
    "new_df.head()"
   ]
  },
  {
   "cell_type": "code",
   "execution_count": 454,
   "id": "24dc9e6e",
   "metadata": {},
   "outputs": [],
   "source": [
    "from sklearn import tree\n",
    "from sklearn.utils import shuffle\n",
    "new_df = shuffle(new_df)"
   ]
  },
  {
   "cell_type": "code",
   "execution_count": 455,
   "id": "20123da3",
   "metadata": {},
   "outputs": [
    {
     "data": {
      "text/html": [
       "<div>\n",
       "<style scoped>\n",
       "    .dataframe tbody tr th:only-of-type {\n",
       "        vertical-align: middle;\n",
       "    }\n",
       "\n",
       "    .dataframe tbody tr th {\n",
       "        vertical-align: top;\n",
       "    }\n",
       "\n",
       "    .dataframe thead th {\n",
       "        text-align: right;\n",
       "    }\n",
       "</style>\n",
       "<table border=\"1\" class=\"dataframe\">\n",
       "  <thead>\n",
       "    <tr style=\"text-align: right;\">\n",
       "      <th></th>\n",
       "      <th>0</th>\n",
       "      <th>1</th>\n",
       "      <th>2</th>\n",
       "      <th>3</th>\n",
       "      <th>4</th>\n",
       "      <th>5</th>\n",
       "      <th>6</th>\n",
       "      <th>7</th>\n",
       "      <th>8</th>\n",
       "      <th>9</th>\n",
       "      <th>...</th>\n",
       "      <th>16</th>\n",
       "      <th>17</th>\n",
       "      <th>18</th>\n",
       "      <th>19</th>\n",
       "      <th>20</th>\n",
       "      <th>21</th>\n",
       "      <th>22</th>\n",
       "      <th>23</th>\n",
       "      <th>24</th>\n",
       "      <th>label</th>\n",
       "    </tr>\n",
       "  </thead>\n",
       "  <tbody>\n",
       "    <tr>\n",
       "      <th>147</th>\n",
       "      <td>0.286481</td>\n",
       "      <td>1.862819</td>\n",
       "      <td>-0.479976</td>\n",
       "      <td>1.473161</td>\n",
       "      <td>-0.749305</td>\n",
       "      <td>-0.872345</td>\n",
       "      <td>-0.835093</td>\n",
       "      <td>-1.067376</td>\n",
       "      <td>-0.170028</td>\n",
       "      <td>-0.689034</td>\n",
       "      <td>...</td>\n",
       "      <td>1.751869</td>\n",
       "      <td>-1.177854</td>\n",
       "      <td>-1.038208</td>\n",
       "      <td>-0.914095</td>\n",
       "      <td>-0.922193</td>\n",
       "      <td>-0.531276</td>\n",
       "      <td>-1.221592</td>\n",
       "      <td>1.420046</td>\n",
       "      <td>0.073262</td>\n",
       "      <td>tumor</td>\n",
       "    </tr>\n",
       "    <tr>\n",
       "      <th>17</th>\n",
       "      <td>-0.271107</td>\n",
       "      <td>0.021368</td>\n",
       "      <td>-0.339368</td>\n",
       "      <td>0.591586</td>\n",
       "      <td>0.842265</td>\n",
       "      <td>0.406678</td>\n",
       "      <td>-0.083796</td>\n",
       "      <td>-0.062435</td>\n",
       "      <td>-0.087086</td>\n",
       "      <td>-1.102643</td>\n",
       "      <td>...</td>\n",
       "      <td>1.024527</td>\n",
       "      <td>-0.180847</td>\n",
       "      <td>-0.093224</td>\n",
       "      <td>-1.216937</td>\n",
       "      <td>-0.094064</td>\n",
       "      <td>1.020631</td>\n",
       "      <td>-0.587279</td>\n",
       "      <td>-0.632266</td>\n",
       "      <td>0.073262</td>\n",
       "      <td>tumor</td>\n",
       "    </tr>\n",
       "    <tr>\n",
       "      <th>454</th>\n",
       "      <td>1.234379</td>\n",
       "      <td>-0.120282</td>\n",
       "      <td>0.363669</td>\n",
       "      <td>-0.209845</td>\n",
       "      <td>-1.385932</td>\n",
       "      <td>-0.801288</td>\n",
       "      <td>0.004592</td>\n",
       "      <td>-0.205998</td>\n",
       "      <td>0.576456</td>\n",
       "      <td>-0.689034</td>\n",
       "      <td>...</td>\n",
       "      <td>-0.297912</td>\n",
       "      <td>-0.750565</td>\n",
       "      <td>0.694263</td>\n",
       "      <td>-1.035232</td>\n",
       "      <td>-0.922193</td>\n",
       "      <td>-0.965810</td>\n",
       "      <td>-1.010154</td>\n",
       "      <td>-0.719598</td>\n",
       "      <td>-1.070226</td>\n",
       "      <td>tumor</td>\n",
       "    </tr>\n",
       "    <tr>\n",
       "      <th>699</th>\n",
       "      <td>-0.159589</td>\n",
       "      <td>0.635185</td>\n",
       "      <td>-0.901798</td>\n",
       "      <td>1.152589</td>\n",
       "      <td>0.736161</td>\n",
       "      <td>-0.446004</td>\n",
       "      <td>-0.216378</td>\n",
       "      <td>-0.636687</td>\n",
       "      <td>1.820597</td>\n",
       "      <td>-0.157251</td>\n",
       "      <td>...</td>\n",
       "      <td>0.693917</td>\n",
       "      <td>2.810173</td>\n",
       "      <td>-0.329470</td>\n",
       "      <td>0.055002</td>\n",
       "      <td>0.651252</td>\n",
       "      <td>0.896478</td>\n",
       "      <td>1.174699</td>\n",
       "      <td>0.022727</td>\n",
       "      <td>0.988053</td>\n",
       "      <td>no tumor</td>\n",
       "    </tr>\n",
       "    <tr>\n",
       "      <th>485</th>\n",
       "      <td>-1.274764</td>\n",
       "      <td>0.918485</td>\n",
       "      <td>-0.667452</td>\n",
       "      <td>0.992302</td>\n",
       "      <td>1.054475</td>\n",
       "      <td>-1.156572</td>\n",
       "      <td>-0.879287</td>\n",
       "      <td>-0.875959</td>\n",
       "      <td>-0.584742</td>\n",
       "      <td>-1.043556</td>\n",
       "      <td>...</td>\n",
       "      <td>0.032698</td>\n",
       "      <td>-1.462713</td>\n",
       "      <td>-0.880711</td>\n",
       "      <td>-1.216937</td>\n",
       "      <td>-2.412826</td>\n",
       "      <td>-1.027886</td>\n",
       "      <td>-1.644466</td>\n",
       "      <td>0.415723</td>\n",
       "      <td>-1.375156</td>\n",
       "      <td>tumor</td>\n",
       "    </tr>\n",
       "  </tbody>\n",
       "</table>\n",
       "<p>5 rows × 26 columns</p>\n",
       "</div>"
      ],
      "text/plain": [
       "            0         1         2         3         4         5         6  \\\n",
       "147  0.286481  1.862819 -0.479976  1.473161 -0.749305 -0.872345 -0.835093   \n",
       "17  -0.271107  0.021368 -0.339368  0.591586  0.842265  0.406678 -0.083796   \n",
       "454  1.234379 -0.120282  0.363669 -0.209845 -1.385932 -0.801288  0.004592   \n",
       "699 -0.159589  0.635185 -0.901798  1.152589  0.736161 -0.446004 -0.216378   \n",
       "485 -1.274764  0.918485 -0.667452  0.992302  1.054475 -1.156572 -0.879287   \n",
       "\n",
       "            7         8         9  ...        16        17        18  \\\n",
       "147 -1.067376 -0.170028 -0.689034  ...  1.751869 -1.177854 -1.038208   \n",
       "17  -0.062435 -0.087086 -1.102643  ...  1.024527 -0.180847 -0.093224   \n",
       "454 -0.205998  0.576456 -0.689034  ... -0.297912 -0.750565  0.694263   \n",
       "699 -0.636687  1.820597 -0.157251  ...  0.693917  2.810173 -0.329470   \n",
       "485 -0.875959 -0.584742 -1.043556  ...  0.032698 -1.462713 -0.880711   \n",
       "\n",
       "           19        20        21        22        23        24     label  \n",
       "147 -0.914095 -0.922193 -0.531276 -1.221592  1.420046  0.073262     tumor  \n",
       "17  -1.216937 -0.094064  1.020631 -0.587279 -0.632266  0.073262     tumor  \n",
       "454 -1.035232 -0.922193 -0.965810 -1.010154 -0.719598 -1.070226     tumor  \n",
       "699  0.055002  0.651252  0.896478  1.174699  0.022727  0.988053  no tumor  \n",
       "485 -1.216937 -2.412826 -1.027886 -1.644466  0.415723 -1.375156     tumor  \n",
       "\n",
       "[5 rows x 26 columns]"
      ]
     },
     "execution_count": 455,
     "metadata": {},
     "output_type": "execute_result"
    }
   ],
   "source": [
    "new_df.head()"
   ]
  },
  {
   "cell_type": "code",
   "execution_count": 456,
   "id": "7101be8a",
   "metadata": {},
   "outputs": [],
   "source": [
    "clf = tree.DecisionTreeClassifier()"
   ]
  },
  {
   "cell_type": "code",
   "execution_count": 457,
   "id": "9867e9ea",
   "metadata": {},
   "outputs": [],
   "source": [
    "X_Train = new_df.loc[:, new_df.columns != 'label']\n",
    "Y_Train = new_df['label']"
   ]
  },
  {
   "cell_type": "code",
   "execution_count": 458,
   "id": "9a75027b",
   "metadata": {},
   "outputs": [
    {
     "data": {
      "text/plain": [
       "147       tumor\n",
       "17        tumor\n",
       "454       tumor\n",
       "699    no tumor\n",
       "485       tumor\n",
       "         ...   \n",
       "413       tumor\n",
       "935    no tumor\n",
       "858    no tumor\n",
       "59        tumor\n",
       "857    no tumor\n",
       "Name: label, Length: 1001, dtype: object"
      ]
     },
     "execution_count": 458,
     "metadata": {},
     "output_type": "execute_result"
    }
   ],
   "source": [
    "Y_Train"
   ]
  },
  {
   "cell_type": "code",
   "execution_count": 459,
   "id": "d07281cb",
   "metadata": {},
   "outputs": [
    {
     "data": {
      "text/plain": [
       "DecisionTreeClassifier()"
      ]
     },
     "execution_count": 459,
     "metadata": {},
     "output_type": "execute_result"
    }
   ],
   "source": [
    "clf.fit(X_Train, Y_Train)"
   ]
  },
  {
   "cell_type": "code",
   "execution_count": 460,
   "id": "343c2c54",
   "metadata": {},
   "outputs": [],
   "source": [
    "from sklearn.metrics import classification_report"
   ]
  },
  {
   "cell_type": "code",
   "execution_count": 461,
   "id": "4582a2d3",
   "metadata": {},
   "outputs": [
    {
     "data": {
      "text/plain": [
       "1.0"
      ]
     },
     "execution_count": 461,
     "metadata": {},
     "output_type": "execute_result"
    }
   ],
   "source": [
    "clf.score(X_Train,Y_Train)"
   ]
  },
  {
   "cell_type": "code",
   "execution_count": 462,
   "id": "e8eaee92",
   "metadata": {},
   "outputs": [],
   "source": [
    "test_df = pd.read_csv(\"./brain_test.csv\")"
   ]
  },
  {
   "cell_type": "code",
   "execution_count": 463,
   "id": "6d78d5cc",
   "metadata": {},
   "outputs": [
    {
     "data": {
      "text/html": [
       "<div>\n",
       "<style scoped>\n",
       "    .dataframe tbody tr th:only-of-type {\n",
       "        vertical-align: middle;\n",
       "    }\n",
       "\n",
       "    .dataframe tbody tr th {\n",
       "        vertical-align: top;\n",
       "    }\n",
       "\n",
       "    .dataframe thead th {\n",
       "        text-align: right;\n",
       "    }\n",
       "</style>\n",
       "<table border=\"1\" class=\"dataframe\">\n",
       "  <thead>\n",
       "    <tr style=\"text-align: right;\">\n",
       "      <th></th>\n",
       "      <th>path</th>\n",
       "      <th>diagnose</th>\n",
       "    </tr>\n",
       "  </thead>\n",
       "  <tbody>\n",
       "    <tr>\n",
       "      <th>0</th>\n",
       "      <td>./Brain scans\\Tumor\\TEST\\y701.jpg</td>\n",
       "      <td>tumor</td>\n",
       "    </tr>\n",
       "    <tr>\n",
       "      <th>1</th>\n",
       "      <td>./Brain scans\\Tumor\\TEST\\y702.jpg</td>\n",
       "      <td>tumor</td>\n",
       "    </tr>\n",
       "    <tr>\n",
       "      <th>2</th>\n",
       "      <td>./Brain scans\\Tumor\\TEST\\y703.jpg</td>\n",
       "      <td>tumor</td>\n",
       "    </tr>\n",
       "    <tr>\n",
       "      <th>3</th>\n",
       "      <td>./Brain scans\\Tumor\\TEST\\y704.jpg</td>\n",
       "      <td>tumor</td>\n",
       "    </tr>\n",
       "    <tr>\n",
       "      <th>4</th>\n",
       "      <td>./Brain scans\\Tumor\\TEST\\y705.jpg</td>\n",
       "      <td>tumor</td>\n",
       "    </tr>\n",
       "  </tbody>\n",
       "</table>\n",
       "</div>"
      ],
      "text/plain": [
       "                                path diagnose\n",
       "0  ./Brain scans\\Tumor\\TEST\\y701.jpg    tumor\n",
       "1  ./Brain scans\\Tumor\\TEST\\y702.jpg    tumor\n",
       "2  ./Brain scans\\Tumor\\TEST\\y703.jpg    tumor\n",
       "3  ./Brain scans\\Tumor\\TEST\\y704.jpg    tumor\n",
       "4  ./Brain scans\\Tumor\\TEST\\y705.jpg    tumor"
      ]
     },
     "execution_count": 463,
     "metadata": {},
     "output_type": "execute_result"
    }
   ],
   "source": [
    "test_df.head()"
   ]
  },
  {
   "cell_type": "code",
   "execution_count": 464,
   "id": "da0717da",
   "metadata": {},
   "outputs": [
    {
     "data": {
      "text/plain": [
       "list"
      ]
     },
     "execution_count": 464,
     "metadata": {},
     "output_type": "execute_result"
    }
   ],
   "source": [
    "test_images = []\n",
    "for path in test_df[\"path\"]:\n",
    "    test_images.append(cv2.resize(cv2.imread(path,0), (300,300)))\n",
    "type(test_images)"
   ]
  },
  {
   "cell_type": "code",
   "execution_count": 465,
   "id": "2453de88",
   "metadata": {},
   "outputs": [],
   "source": [
    "test_des_list = []\n",
    "for image in test_images:\n",
    "    kp, des = Feature_extractor(image, orb)\n",
    "    test_des_list.append((image,des))"
   ]
  },
  {
   "cell_type": "code",
   "execution_count": 466,
   "id": "1b40a07c",
   "metadata": {},
   "outputs": [],
   "source": [
    "test_visual_words = []"
   ]
  },
  {
   "cell_type": "code",
   "execution_count": 467,
   "id": "fd631c91",
   "metadata": {},
   "outputs": [],
   "source": [
    "for image, des in test_des_list[:]:\n",
    "    im_visual_words, distance = vq(des, codebook)\n",
    "    test_visual_words.append(im_visual_words)\n",
    "test_frequency_vectors = []\n",
    "for img_visual_words in test_visual_words:\n",
    "    img_frequency_vector = np.zeros(k)\n",
    "    for word in img_visual_words:\n",
    "        img_frequency_vector[word] += 1\n",
    "    test_frequency_vectors.append(img_frequency_vector)\n",
    "test_frequency_vectors = np.stack(test_frequency_vectors)"
   ]
  },
  {
   "cell_type": "code",
   "execution_count": 468,
   "id": "0b3cc1bb",
   "metadata": {},
   "outputs": [
    {
     "data": {
      "text/plain": [
       "200"
      ]
     },
     "execution_count": 468,
     "metadata": {},
     "output_type": "execute_result"
    }
   ],
   "source": [
    "test_frequency_vectors.shape[0]"
   ]
  },
  {
   "cell_type": "code",
   "execution_count": 469,
   "id": "45e01756",
   "metadata": {},
   "outputs": [],
   "source": [
    "new_test_df = pd.DataFrame(data = test_frequency_vectors)"
   ]
  },
  {
   "cell_type": "code",
   "execution_count": 470,
   "id": "acbd3243",
   "metadata": {},
   "outputs": [],
   "source": [
    "new_test_df = (new_test_df - new_test_df.mean()) / new_test_df.std()"
   ]
  },
  {
   "cell_type": "code",
   "execution_count": 471,
   "id": "7c0fa32a",
   "metadata": {},
   "outputs": [
    {
     "data": {
      "text/html": [
       "<div>\n",
       "<style scoped>\n",
       "    .dataframe tbody tr th:only-of-type {\n",
       "        vertical-align: middle;\n",
       "    }\n",
       "\n",
       "    .dataframe tbody tr th {\n",
       "        vertical-align: top;\n",
       "    }\n",
       "\n",
       "    .dataframe thead th {\n",
       "        text-align: right;\n",
       "    }\n",
       "</style>\n",
       "<table border=\"1\" class=\"dataframe\">\n",
       "  <thead>\n",
       "    <tr style=\"text-align: right;\">\n",
       "      <th></th>\n",
       "      <th>0</th>\n",
       "      <th>1</th>\n",
       "      <th>2</th>\n",
       "      <th>3</th>\n",
       "      <th>4</th>\n",
       "      <th>5</th>\n",
       "      <th>6</th>\n",
       "      <th>7</th>\n",
       "      <th>8</th>\n",
       "      <th>9</th>\n",
       "      <th>...</th>\n",
       "      <th>15</th>\n",
       "      <th>16</th>\n",
       "      <th>17</th>\n",
       "      <th>18</th>\n",
       "      <th>19</th>\n",
       "      <th>20</th>\n",
       "      <th>21</th>\n",
       "      <th>22</th>\n",
       "      <th>23</th>\n",
       "      <th>24</th>\n",
       "    </tr>\n",
       "  </thead>\n",
       "  <tbody>\n",
       "    <tr>\n",
       "      <th>0</th>\n",
       "      <td>0.055863</td>\n",
       "      <td>-0.376227</td>\n",
       "      <td>-0.244151</td>\n",
       "      <td>-0.830558</td>\n",
       "      <td>-1.573078</td>\n",
       "      <td>-0.735381</td>\n",
       "      <td>-0.668085</td>\n",
       "      <td>-0.719704</td>\n",
       "      <td>-0.312043</td>\n",
       "      <td>-0.433936</td>\n",
       "      <td>...</td>\n",
       "      <td>-0.503300</td>\n",
       "      <td>-1.358109</td>\n",
       "      <td>-0.729874</td>\n",
       "      <td>-0.465956</td>\n",
       "      <td>-0.051680</td>\n",
       "      <td>-2.063726</td>\n",
       "      <td>-0.868423</td>\n",
       "      <td>-1.392917</td>\n",
       "      <td>-0.530111</td>\n",
       "      <td>-0.082647</td>\n",
       "    </tr>\n",
       "    <tr>\n",
       "      <th>1</th>\n",
       "      <td>0.009885</td>\n",
       "      <td>-0.892248</td>\n",
       "      <td>0.732454</td>\n",
       "      <td>-0.386409</td>\n",
       "      <td>-1.066776</td>\n",
       "      <td>0.872889</td>\n",
       "      <td>0.096314</td>\n",
       "      <td>0.586056</td>\n",
       "      <td>-0.214070</td>\n",
       "      <td>0.395038</td>\n",
       "      <td>...</td>\n",
       "      <td>0.204466</td>\n",
       "      <td>-0.415481</td>\n",
       "      <td>-0.895285</td>\n",
       "      <td>-0.201584</td>\n",
       "      <td>1.720190</td>\n",
       "      <td>-1.513277</td>\n",
       "      <td>-0.043449</td>\n",
       "      <td>0.809604</td>\n",
       "      <td>-0.799317</td>\n",
       "      <td>-0.333093</td>\n",
       "    </tr>\n",
       "    <tr>\n",
       "      <th>2</th>\n",
       "      <td>-0.725761</td>\n",
       "      <td>2.110060</td>\n",
       "      <td>-0.189896</td>\n",
       "      <td>1.123696</td>\n",
       "      <td>-1.775598</td>\n",
       "      <td>0.149167</td>\n",
       "      <td>-0.744525</td>\n",
       "      <td>-0.950132</td>\n",
       "      <td>0.373765</td>\n",
       "      <td>-1.135375</td>\n",
       "      <td>...</td>\n",
       "      <td>-0.267378</td>\n",
       "      <td>2.484912</td>\n",
       "      <td>-0.895285</td>\n",
       "      <td>-0.928608</td>\n",
       "      <td>-1.159098</td>\n",
       "      <td>-0.595861</td>\n",
       "      <td>-1.143415</td>\n",
       "      <td>-1.179770</td>\n",
       "      <td>2.565757</td>\n",
       "      <td>-0.249611</td>\n",
       "    </tr>\n",
       "    <tr>\n",
       "      <th>3</th>\n",
       "      <td>0.423686</td>\n",
       "      <td>0.421261</td>\n",
       "      <td>0.678198</td>\n",
       "      <td>-0.564069</td>\n",
       "      <td>0.350867</td>\n",
       "      <td>0.149167</td>\n",
       "      <td>-0.362325</td>\n",
       "      <td>-0.450871</td>\n",
       "      <td>-0.801905</td>\n",
       "      <td>-0.433936</td>\n",
       "      <td>...</td>\n",
       "      <td>1.148153</td>\n",
       "      <td>1.469774</td>\n",
       "      <td>0.593410</td>\n",
       "      <td>-0.432910</td>\n",
       "      <td>-0.199335</td>\n",
       "      <td>-0.595861</td>\n",
       "      <td>-0.043449</td>\n",
       "      <td>-0.327181</td>\n",
       "      <td>0.905654</td>\n",
       "      <td>2.171369</td>\n",
       "    </tr>\n",
       "    <tr>\n",
       "      <th>4</th>\n",
       "      <td>-0.174026</td>\n",
       "      <td>-0.516960</td>\n",
       "      <td>0.244151</td>\n",
       "      <td>0.501888</td>\n",
       "      <td>0.654647</td>\n",
       "      <td>0.229581</td>\n",
       "      <td>-0.056566</td>\n",
       "      <td>-0.105229</td>\n",
       "      <td>0.177820</td>\n",
       "      <td>-1.262909</td>\n",
       "      <td>...</td>\n",
       "      <td>0.519028</td>\n",
       "      <td>0.382127</td>\n",
       "      <td>0.510705</td>\n",
       "      <td>-0.069398</td>\n",
       "      <td>-1.306754</td>\n",
       "      <td>-0.137154</td>\n",
       "      <td>0.066548</td>\n",
       "      <td>-0.327181</td>\n",
       "      <td>0.681315</td>\n",
       "      <td>0.585209</td>\n",
       "    </tr>\n",
       "  </tbody>\n",
       "</table>\n",
       "<p>5 rows × 25 columns</p>\n",
       "</div>"
      ],
      "text/plain": [
       "         0         1         2         3         4         5         6   \\\n",
       "0  0.055863 -0.376227 -0.244151 -0.830558 -1.573078 -0.735381 -0.668085   \n",
       "1  0.009885 -0.892248  0.732454 -0.386409 -1.066776  0.872889  0.096314   \n",
       "2 -0.725761  2.110060 -0.189896  1.123696 -1.775598  0.149167 -0.744525   \n",
       "3  0.423686  0.421261  0.678198 -0.564069  0.350867  0.149167 -0.362325   \n",
       "4 -0.174026 -0.516960  0.244151  0.501888  0.654647  0.229581 -0.056566   \n",
       "\n",
       "         7         8         9   ...        15        16        17        18  \\\n",
       "0 -0.719704 -0.312043 -0.433936  ... -0.503300 -1.358109 -0.729874 -0.465956   \n",
       "1  0.586056 -0.214070  0.395038  ...  0.204466 -0.415481 -0.895285 -0.201584   \n",
       "2 -0.950132  0.373765 -1.135375  ... -0.267378  2.484912 -0.895285 -0.928608   \n",
       "3 -0.450871 -0.801905 -0.433936  ...  1.148153  1.469774  0.593410 -0.432910   \n",
       "4 -0.105229  0.177820 -1.262909  ...  0.519028  0.382127  0.510705 -0.069398   \n",
       "\n",
       "         19        20        21        22        23        24  \n",
       "0 -0.051680 -2.063726 -0.868423 -1.392917 -0.530111 -0.082647  \n",
       "1  1.720190 -1.513277 -0.043449  0.809604 -0.799317 -0.333093  \n",
       "2 -1.159098 -0.595861 -1.143415 -1.179770  2.565757 -0.249611  \n",
       "3 -0.199335 -0.595861 -0.043449 -0.327181  0.905654  2.171369  \n",
       "4 -1.306754 -0.137154  0.066548 -0.327181  0.681315  0.585209  \n",
       "\n",
       "[5 rows x 25 columns]"
      ]
     },
     "execution_count": 471,
     "metadata": {},
     "output_type": "execute_result"
    }
   ],
   "source": [
    "new_test_df.head()"
   ]
  },
  {
   "cell_type": "code",
   "execution_count": 472,
   "id": "dea2ebd3",
   "metadata": {},
   "outputs": [],
   "source": [
    "new_test_df['label'] = test_df['diagnose']"
   ]
  },
  {
   "cell_type": "code",
   "execution_count": 473,
   "id": "ab4b3574",
   "metadata": {},
   "outputs": [],
   "source": [
    "new_test_df = shuffle(new_test_df)"
   ]
  },
  {
   "cell_type": "code",
   "execution_count": 474,
   "id": "79ac4858",
   "metadata": {},
   "outputs": [],
   "source": [
    "X_Test = new_test_df.loc[:, new_test_df.columns != 'label']\n",
    "Y_Test = new_test_df['label']"
   ]
  },
  {
   "cell_type": "code",
   "execution_count": 475,
   "id": "508fff43",
   "metadata": {},
   "outputs": [],
   "source": [
    "y_pred = clf.predict(X_Test)"
   ]
  },
  {
   "cell_type": "code",
   "execution_count": 476,
   "id": "cfb99898",
   "metadata": {},
   "outputs": [
    {
     "data": {
      "text/plain": [
       "'              precision    recall  f1-score   support\\n\\n    no tumor       0.70      0.79      0.74       100\\n       tumor       0.76      0.66      0.71       100\\n\\n    accuracy                           0.73       200\\n   macro avg       0.73      0.73      0.72       200\\nweighted avg       0.73      0.72      0.72       200\\n'"
      ]
     },
     "execution_count": 476,
     "metadata": {},
     "output_type": "execute_result"
    }
   ],
   "source": [
    "classification_report(Y_Test, y_pred)"
   ]
  },
  {
   "cell_type": "code",
   "execution_count": 477,
   "id": "12b770e6",
   "metadata": {},
   "outputs": [
    {
     "data": {
      "text/plain": [
       "0.525"
      ]
     },
     "execution_count": 477,
     "metadata": {},
     "output_type": "execute_result"
    }
   ],
   "source": [
    "misclass = 0\n",
    "for i in range(y_pred.size):\n",
    "    if y_pred[i] != Y_Test[i]:\n",
    "        misclass+=1\n",
    "error = misclass / 200\n",
    "error"
   ]
  },
  {
   "cell_type": "code",
   "execution_count": 478,
   "id": "2e0b34f8",
   "metadata": {},
   "outputs": [],
   "source": [
    "from sklearn.ensemble import AdaBoostClassifier"
   ]
  },
  {
   "cell_type": "code",
   "execution_count": 479,
   "id": "efa9f8c0",
   "metadata": {},
   "outputs": [],
   "source": [
    "ada = AdaBoostClassifier()"
   ]
  },
  {
   "cell_type": "code",
   "execution_count": 480,
   "id": "3758d233",
   "metadata": {},
   "outputs": [
    {
     "data": {
      "text/plain": [
       "AdaBoostClassifier()"
      ]
     },
     "execution_count": 480,
     "metadata": {},
     "output_type": "execute_result"
    }
   ],
   "source": [
    "ada.fit(X_Train, Y_Train)"
   ]
  },
  {
   "cell_type": "code",
   "execution_count": 481,
   "id": "3425371a",
   "metadata": {},
   "outputs": [],
   "source": [
    "ada_y_pred = ada.predict(X_Test)"
   ]
  },
  {
   "cell_type": "code",
   "execution_count": 482,
   "id": "111de37b",
   "metadata": {},
   "outputs": [
    {
     "data": {
      "text/plain": [
       "0.465"
      ]
     },
     "execution_count": 482,
     "metadata": {},
     "output_type": "execute_result"
    }
   ],
   "source": [
    "misclass = 0\n",
    "for i in range(ada_y_pred.size):\n",
    "    if ada_y_pred[i] != Y_Test[i]:\n",
    "        misclass+=1\n",
    "error = misclass / 200\n",
    "error"
   ]
  },
  {
   "cell_type": "code",
   "execution_count": null,
   "id": "e6c252be",
   "metadata": {},
   "outputs": [],
   "source": []
  }
 ],
 "metadata": {
  "kernelspec": {
   "display_name": "Python 3",
   "language": "python",
   "name": "python3"
  },
  "language_info": {
   "codemirror_mode": {
    "name": "ipython",
    "version": 3
   },
   "file_extension": ".py",
   "mimetype": "text/x-python",
   "name": "python",
   "nbconvert_exporter": "python",
   "pygments_lexer": "ipython3",
   "version": "3.6.13"
  }
 },
 "nbformat": 4,
 "nbformat_minor": 5
}
