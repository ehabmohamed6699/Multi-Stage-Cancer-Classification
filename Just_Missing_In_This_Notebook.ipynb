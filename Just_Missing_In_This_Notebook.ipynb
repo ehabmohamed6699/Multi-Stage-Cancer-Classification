{
 "cells": [
  {
   "cell_type": "code",
   "execution_count": 1,
   "id": "4fc8f3de",
   "metadata": {},
   "outputs": [],
   "source": [
    "import cv2\n",
    "import os\n",
    "import numpy as np\n",
    "import pandas as pd"
   ]
  },
  {
   "cell_type": "code",
   "execution_count": 23,
   "id": "2512a550",
   "metadata": {},
   "outputs": [],
   "source": [
    "brain_tumor_train_path = \"./Brain scans\\Tumor\\TRAIN\"\n",
    "brain_tumor_test_path = \"./Brain scans\\Tumor\\TEST\"\n",
    "brain_notumor_train_path = \"./Brain scans/No tumor\\Train\"\n",
    "brain_notumor_test_path = \"./Brain scans/No tumor\\Test\""
   ]
  },
  {
   "cell_type": "code",
   "execution_count": 34,
   "id": "f9f44ce8",
   "metadata": {},
   "outputs": [],
   "source": [
    "train_data = []\n",
    "test_data = []\n",
    "for filename in os.listdir(brain_tumor_train_path):\n",
    "    train_data.append([brain_tumor_train_path +'\\\\'+ filename, \"tumor\"])\n",
    "for filename in os.listdir(brain_notumor_train_path):\n",
    "    train_data.append([brain_notumor_train_path +\"\\\\\"+ filename, \"no tumor\"])\n",
    "for filename in os.listdir(brain_tumor_test_path):\n",
    "    test_data.append([brain_tumor_test_path +\"\\\\\"+ filename, \"tumor\"])\n",
    "for filename in os.listdir(brain_notumor_test_path):\n",
    "    test_data.append([brain_notumor_test_path +\"\\\\\"+ filename, \"no tumor\"])"
   ]
  },
  {
   "cell_type": "code",
   "execution_count": 35,
   "id": "21ccd553",
   "metadata": {},
   "outputs": [
    {
     "data": {
      "text/html": [
       "<div>\n",
       "<style scoped>\n",
       "    .dataframe tbody tr th:only-of-type {\n",
       "        vertical-align: middle;\n",
       "    }\n",
       "\n",
       "    .dataframe tbody tr th {\n",
       "        vertical-align: top;\n",
       "    }\n",
       "\n",
       "    .dataframe thead th {\n",
       "        text-align: right;\n",
       "    }\n",
       "</style>\n",
       "<table border=\"1\" class=\"dataframe\">\n",
       "  <thead>\n",
       "    <tr style=\"text-align: right;\">\n",
       "      <th></th>\n",
       "      <th>path</th>\n",
       "      <th>diagnose</th>\n",
       "    </tr>\n",
       "  </thead>\n",
       "  <tbody>\n",
       "    <tr>\n",
       "      <th>0</th>\n",
       "      <td>./Brain scans\\Tumor\\TRAIN\\y0.jpg</td>\n",
       "      <td>tumor</td>\n",
       "    </tr>\n",
       "    <tr>\n",
       "      <th>1</th>\n",
       "      <td>./Brain scans\\Tumor\\TRAIN\\y1.jpg</td>\n",
       "      <td>tumor</td>\n",
       "    </tr>\n",
       "    <tr>\n",
       "      <th>2</th>\n",
       "      <td>./Brain scans\\Tumor\\TRAIN\\y10.jpg</td>\n",
       "      <td>tumor</td>\n",
       "    </tr>\n",
       "    <tr>\n",
       "      <th>3</th>\n",
       "      <td>./Brain scans\\Tumor\\TRAIN\\y100.jpg</td>\n",
       "      <td>tumor</td>\n",
       "    </tr>\n",
       "    <tr>\n",
       "      <th>4</th>\n",
       "      <td>./Brain scans\\Tumor\\TRAIN\\y101.jpg</td>\n",
       "      <td>tumor</td>\n",
       "    </tr>\n",
       "    <tr>\n",
       "      <th>...</th>\n",
       "      <td>...</td>\n",
       "      <td>...</td>\n",
       "    </tr>\n",
       "    <tr>\n",
       "      <th>996</th>\n",
       "      <td>./Brain scans/No tumor\\Train\\no95.jpg</td>\n",
       "      <td>no tumor</td>\n",
       "    </tr>\n",
       "    <tr>\n",
       "      <th>997</th>\n",
       "      <td>./Brain scans/No tumor\\Train\\no96.jpg</td>\n",
       "      <td>no tumor</td>\n",
       "    </tr>\n",
       "    <tr>\n",
       "      <th>998</th>\n",
       "      <td>./Brain scans/No tumor\\Train\\no97.jpg</td>\n",
       "      <td>no tumor</td>\n",
       "    </tr>\n",
       "    <tr>\n",
       "      <th>999</th>\n",
       "      <td>./Brain scans/No tumor\\Train\\no98.jpg</td>\n",
       "      <td>no tumor</td>\n",
       "    </tr>\n",
       "    <tr>\n",
       "      <th>1000</th>\n",
       "      <td>./Brain scans/No tumor\\Train\\no99.jpg</td>\n",
       "      <td>no tumor</td>\n",
       "    </tr>\n",
       "  </tbody>\n",
       "</table>\n",
       "<p>1001 rows × 2 columns</p>\n",
       "</div>"
      ],
      "text/plain": [
       "                                       path  diagnose\n",
       "0          ./Brain scans\\Tumor\\TRAIN\\y0.jpg     tumor\n",
       "1          ./Brain scans\\Tumor\\TRAIN\\y1.jpg     tumor\n",
       "2         ./Brain scans\\Tumor\\TRAIN\\y10.jpg     tumor\n",
       "3        ./Brain scans\\Tumor\\TRAIN\\y100.jpg     tumor\n",
       "4        ./Brain scans\\Tumor\\TRAIN\\y101.jpg     tumor\n",
       "...                                     ...       ...\n",
       "996   ./Brain scans/No tumor\\Train\\no95.jpg  no tumor\n",
       "997   ./Brain scans/No tumor\\Train\\no96.jpg  no tumor\n",
       "998   ./Brain scans/No tumor\\Train\\no97.jpg  no tumor\n",
       "999   ./Brain scans/No tumor\\Train\\no98.jpg  no tumor\n",
       "1000  ./Brain scans/No tumor\\Train\\no99.jpg  no tumor\n",
       "\n",
       "[1001 rows x 2 columns]"
      ]
     },
     "execution_count": 35,
     "metadata": {},
     "output_type": "execute_result"
    }
   ],
   "source": [
    "train_df = pd.DataFrame(train_data, columns=[\"path\", \"diagnose\"])\n",
    "test_df = pd.DataFrame(test_data, columns=[\"path\", \"diagnose\"])\n",
    "train_df"
   ]
  },
  {
   "cell_type": "code",
   "execution_count": 36,
   "id": "6798150f",
   "metadata": {},
   "outputs": [],
   "source": [
    "train_df.to_csv('brain_train.csv', index = False)\n",
    "test_df.to_csv('brain_test.csv', index = False)"
   ]
  },
  {
   "cell_type": "code",
   "execution_count": null,
   "id": "05b2be8a",
   "metadata": {},
   "outputs": [],
   "source": []
  }
 ],
 "metadata": {
  "kernelspec": {
   "display_name": "Python 3",
   "language": "python",
   "name": "python3"
  },
  "language_info": {
   "codemirror_mode": {
    "name": "ipython",
    "version": 3
   },
   "file_extension": ".py",
   "mimetype": "text/x-python",
   "name": "python",
   "nbconvert_exporter": "python",
   "pygments_lexer": "ipython3",
   "version": "3.6.13"
  }
 },
 "nbformat": 4,
 "nbformat_minor": 5
}
