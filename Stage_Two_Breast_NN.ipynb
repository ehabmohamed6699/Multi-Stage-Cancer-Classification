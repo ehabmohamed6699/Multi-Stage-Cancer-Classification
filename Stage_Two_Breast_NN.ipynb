{
 "cells": [
  {
   "cell_type": "code",
   "execution_count": 1,
   "id": "03452493",
   "metadata": {},
   "outputs": [],
   "source": [
    "import cv2\n",
    "import matplotlib.pyplot as plt\n",
    "import numpy as np \n",
    "from tensorflow.keras import datasets,layers,models,utils\n",
    "import tensorflow as tf\n",
    "import pandas as pd"
   ]
  },
  {
   "cell_type": "code",
   "execution_count": 2,
   "id": "0e0239d7",
   "metadata": {},
   "outputs": [
    {
     "name": "stdout",
     "output_type": "stream",
     "text": [
      "Downloading data from https://www.cs.toronto.edu/~kriz/cifar-10-python.tar.gz\n",
      "170500096/170498071 [==============================] - 279s 2us/step\n",
      "170508288/170498071 [==============================] - 279s 2us/step\n"
     ]
    }
   ],
   "source": [
    "# (training_images, training_labels),(testing_images,testing_labels) = datasets.cifar10.load_data()"
   ]
  },
  {
   "cell_type": "code",
   "execution_count": 3,
   "id": "4bbd24fc",
   "metadata": {},
   "outputs": [
    {
     "data": {
      "text/plain": [
       "numpy.ndarray"
      ]
     },
     "execution_count": 3,
     "metadata": {},
     "output_type": "execute_result"
    }
   ],
   "source": [
    "# type(training_images)"
   ]
  },
  {
   "cell_type": "code",
   "execution_count": 4,
   "id": "33c27320",
   "metadata": {},
   "outputs": [],
   "source": [
    "tempList = [1,2,3]\n",
    "tempList = np.ndarray(tempList)"
   ]
  },
  {
   "cell_type": "code",
   "execution_count": 5,
   "id": "d6d9af3b",
   "metadata": {},
   "outputs": [
    {
     "data": {
      "text/plain": [
       "numpy.ndarray"
      ]
     },
     "execution_count": 5,
     "metadata": {},
     "output_type": "execute_result"
    }
   ],
   "source": [
    "type(tempList)"
   ]
  },
  {
   "cell_type": "code",
   "execution_count": 13,
   "id": "5ef49cd7",
   "metadata": {},
   "outputs": [
    {
     "data": {
      "text/plain": [
       "(50000, 32, 32, 3)"
      ]
     },
     "execution_count": 13,
     "metadata": {},
     "output_type": "execute_result"
    }
   ],
   "source": [
    "# training_images.shape"
   ]
  },
  {
   "cell_type": "code",
   "execution_count": 31,
   "id": "62d59607",
   "metadata": {},
   "outputs": [
    {
     "data": {
      "text/plain": [
       "numpy.ndarray"
      ]
     },
     "execution_count": 31,
     "metadata": {},
     "output_type": "execute_result"
    }
   ],
   "source": [
    "type(training_labels)"
   ]
  },
  {
   "cell_type": "code",
   "execution_count": 32,
   "id": "88feeda6",
   "metadata": {},
   "outputs": [
    {
     "data": {
      "text/plain": [
       "(50000, 1)"
      ]
     },
     "execution_count": 32,
     "metadata": {},
     "output_type": "execute_result"
    }
   ],
   "source": [
    "training_labels.shape"
   ]
  },
  {
   "cell_type": "code",
   "execution_count": 17,
   "id": "825bfb45",
   "metadata": {},
   "outputs": [
    {
     "data": {
      "text/plain": [
       "array([[6],\n",
       "       [9],\n",
       "       [9],\n",
       "       [4],\n",
       "       [1]], dtype=uint8)"
      ]
     },
     "execution_count": 17,
     "metadata": {},
     "output_type": "execute_result"
    }
   ],
   "source": [
    "training_labels[:5]"
   ]
  },
  {
   "cell_type": "code",
   "execution_count": 2,
   "id": "911106d5",
   "metadata": {},
   "outputs": [
    {
     "data": {
      "text/html": [
       "<div>\n",
       "<style scoped>\n",
       "    .dataframe tbody tr th:only-of-type {\n",
       "        vertical-align: middle;\n",
       "    }\n",
       "\n",
       "    .dataframe tbody tr th {\n",
       "        vertical-align: top;\n",
       "    }\n",
       "\n",
       "    .dataframe thead th {\n",
       "        text-align: right;\n",
       "    }\n",
       "</style>\n",
       "<table border=\"1\" class=\"dataframe\">\n",
       "  <thead>\n",
       "    <tr style=\"text-align: right;\">\n",
       "      <th></th>\n",
       "      <th>path</th>\n",
       "      <th>type</th>\n",
       "      <th>diagnose</th>\n",
       "    </tr>\n",
       "  </thead>\n",
       "  <tbody>\n",
       "    <tr>\n",
       "      <th>0</th>\n",
       "      <td>./Brain scans\\Tumor\\TRAIN\\y0.jpg</td>\n",
       "      <td>brain</td>\n",
       "      <td>tumor</td>\n",
       "    </tr>\n",
       "    <tr>\n",
       "      <th>1</th>\n",
       "      <td>./Brain scans\\Tumor\\TRAIN\\y1.jpg</td>\n",
       "      <td>brain</td>\n",
       "      <td>tumor</td>\n",
       "    </tr>\n",
       "    <tr>\n",
       "      <th>2</th>\n",
       "      <td>./Brain scans\\Tumor\\TRAIN\\y10.jpg</td>\n",
       "      <td>brain</td>\n",
       "      <td>tumor</td>\n",
       "    </tr>\n",
       "    <tr>\n",
       "      <th>3</th>\n",
       "      <td>./Brain scans\\Tumor\\TRAIN\\y100.jpg</td>\n",
       "      <td>brain</td>\n",
       "      <td>tumor</td>\n",
       "    </tr>\n",
       "    <tr>\n",
       "      <th>4</th>\n",
       "      <td>./Brain scans\\Tumor\\TRAIN\\y101.jpg</td>\n",
       "      <td>brain</td>\n",
       "      <td>tumor</td>\n",
       "    </tr>\n",
       "  </tbody>\n",
       "</table>\n",
       "</div>"
      ],
      "text/plain": [
       "                                 path   type diagnose\n",
       "0    ./Brain scans\\Tumor\\TRAIN\\y0.jpg  brain    tumor\n",
       "1    ./Brain scans\\Tumor\\TRAIN\\y1.jpg  brain    tumor\n",
       "2   ./Brain scans\\Tumor\\TRAIN\\y10.jpg  brain    tumor\n",
       "3  ./Brain scans\\Tumor\\TRAIN\\y100.jpg  brain    tumor\n",
       "4  ./Brain scans\\Tumor\\TRAIN\\y101.jpg  brain    tumor"
      ]
     },
     "execution_count": 2,
     "metadata": {},
     "output_type": "execute_result"
    }
   ],
   "source": [
    "df = pd.read_csv(\"./train.csv\")\n",
    "test_df = pd.read_csv(\"./test.csv\")\n",
    "df.head()"
   ]
  },
  {
   "cell_type": "code",
   "execution_count": 3,
   "id": "50dee456",
   "metadata": {},
   "outputs": [],
   "source": [
    "x_train = []\n",
    "x_test = []\n",
    "for path in df[df['type'] == \"breast\"][\"path\"]:\n",
    "    x_train.append(cv2.resize(cv2.imread(path), (500,500)) / 255)\n",
    "for path in test_df[test_df['type'] == \"breast\"][\"path\"]:\n",
    "    x_test.append(cv2.resize(cv2.imread(path), (500,500)) / 255)"
   ]
  },
  {
   "cell_type": "code",
   "execution_count": 4,
   "id": "ad946665",
   "metadata": {},
   "outputs": [],
   "source": [
    "x_train = np.array(x_train)"
   ]
  },
  {
   "cell_type": "code",
   "execution_count": 5,
   "id": "c5df4db0",
   "metadata": {},
   "outputs": [
    {
     "data": {
      "text/plain": [
       "(681, 500, 500, 3)"
      ]
     },
     "execution_count": 5,
     "metadata": {},
     "output_type": "execute_result"
    }
   ],
   "source": [
    "x_train.shape"
   ]
  },
  {
   "cell_type": "code",
   "execution_count": 6,
   "id": "d3aa5b31",
   "metadata": {},
   "outputs": [],
   "source": [
    "x_test = np.array(x_test)"
   ]
  },
  {
   "cell_type": "code",
   "execution_count": 7,
   "id": "d93764d0",
   "metadata": {},
   "outputs": [
    {
     "data": {
      "text/plain": [
       "(99, 500, 500, 3)"
      ]
     },
     "execution_count": 7,
     "metadata": {},
     "output_type": "execute_result"
    }
   ],
   "source": [
    "x_test.shape"
   ]
  },
  {
   "cell_type": "code",
   "execution_count": 8,
   "id": "2f7590de",
   "metadata": {},
   "outputs": [
    {
     "data": {
      "text/plain": [
       "(681, 1)"
      ]
     },
     "execution_count": 8,
     "metadata": {},
     "output_type": "execute_result"
    }
   ],
   "source": [
    "y_train = []\n",
    "y_test = []\n",
    "for label in df[df['type'] == \"breast\"]['diagnose']:\n",
    "    if label == \"benign\":\n",
    "        y_train.append([0])\n",
    "    elif label == \"malignant\":\n",
    "        y_train.append([1])\n",
    "    elif label == \"normal\":\n",
    "        y_train.append([2])\n",
    "for label in test_df[test_df['type'] == \"breast\"]['diagnose']:\n",
    "    if label == \"benign\":\n",
    "        y_test.append([0])\n",
    "    elif label == \"malignant\":\n",
    "        y_test.append([1])\n",
    "    elif label == \"normal\":\n",
    "        y_test.append([2])\n",
    "y_train = np.array(y_train)\n",
    "y_test = np.array(y_test)\n",
    "y_train.shape"
   ]
  },
  {
   "cell_type": "code",
   "execution_count": 216,
   "id": "cb1e7369",
   "metadata": {},
   "outputs": [
    {
     "ename": "ValueError",
     "evalue": "cannot reshape array of size 102509568 into shape (227,227,3)",
     "output_type": "error",
     "traceback": [
      "\u001b[1;31m---------------------------------------------------------------------------\u001b[0m",
      "\u001b[1;31mValueError\u001b[0m                                Traceback (most recent call last)",
      "\u001b[1;32m<ipython-input-216-f1d1870278bf>\u001b[0m in \u001b[0;36m<module>\u001b[1;34m\u001b[0m\n\u001b[1;32m----> 1\u001b[1;33m \u001b[0mx_train\u001b[0m \u001b[1;33m=\u001b[0m \u001b[0mx_train\u001b[0m\u001b[1;33m.\u001b[0m\u001b[0mreshape\u001b[0m\u001b[1;33m(\u001b[0m\u001b[1;33m-\u001b[0m\u001b[1;36m1\u001b[0m\u001b[1;33m,\u001b[0m \u001b[1;36m227\u001b[0m\u001b[1;33m,\u001b[0m\u001b[1;36m227\u001b[0m\u001b[1;33m,\u001b[0m\u001b[1;36m3\u001b[0m\u001b[1;33m)\u001b[0m\u001b[1;33m\u001b[0m\u001b[1;33m\u001b[0m\u001b[0m\n\u001b[0m\u001b[0;32m      2\u001b[0m \u001b[0mx_test\u001b[0m \u001b[1;33m=\u001b[0m \u001b[0mx_test\u001b[0m\u001b[1;33m.\u001b[0m\u001b[0mreshape\u001b[0m\u001b[1;33m(\u001b[0m\u001b[1;33m-\u001b[0m\u001b[1;36m1\u001b[0m\u001b[1;33m,\u001b[0m \u001b[1;36m227\u001b[0m\u001b[1;33m,\u001b[0m\u001b[1;36m227\u001b[0m\u001b[1;33m,\u001b[0m\u001b[1;36m3\u001b[0m\u001b[1;33m)\u001b[0m\u001b[1;33m\u001b[0m\u001b[1;33m\u001b[0m\u001b[0m\n",
      "\u001b[1;31mValueError\u001b[0m: cannot reshape array of size 102509568 into shape (227,227,3)"
     ]
    }
   ],
   "source": [
    "# x_train = x_train.reshape(-1, 227,227,3)\n",
    "# x_test = x_test.reshape(-1, 227,227,3)"
   ]
  },
  {
   "cell_type": "code",
   "execution_count": 18,
   "id": "e862829e",
   "metadata": {},
   "outputs": [],
   "source": [
    "model = models.Sequential()"
   ]
  },
  {
   "cell_type": "code",
   "execution_count": 19,
   "id": "5128d382",
   "metadata": {},
   "outputs": [],
   "source": [
    "model.add(layers.Conv2D(32, (3,3),activation=\"relu\", input_shape = (500,500,3)))"
   ]
  },
  {
   "cell_type": "code",
   "execution_count": 20,
   "id": "1a27f431",
   "metadata": {},
   "outputs": [],
   "source": [
    "model.add(layers.MaxPooling2D((2,2)))"
   ]
  },
  {
   "cell_type": "code",
   "execution_count": 21,
   "id": "19b48fca",
   "metadata": {},
   "outputs": [],
   "source": [
    "model.add(layers.Conv2D(64, (3,3),activation=\"relu\"))"
   ]
  },
  {
   "cell_type": "code",
   "execution_count": 22,
   "id": "13d891af",
   "metadata": {},
   "outputs": [],
   "source": [
    "model.add(layers.MaxPooling2D((2,2)))"
   ]
  },
  {
   "cell_type": "code",
   "execution_count": 23,
   "id": "4fc33e43",
   "metadata": {},
   "outputs": [],
   "source": [
    "model.add(layers.Conv2D(128, (3,3),activation=\"relu\"))"
   ]
  },
  {
   "cell_type": "code",
   "execution_count": 24,
   "id": "921077f8",
   "metadata": {},
   "outputs": [],
   "source": [
    "model.add(layers.MaxPooling2D((2,2)))"
   ]
  },
  {
   "cell_type": "code",
   "execution_count": 25,
   "id": "5f682114",
   "metadata": {},
   "outputs": [],
   "source": [
    "model.add(layers.Conv2D(128, (3,3),activation=\"relu\"))"
   ]
  },
  {
   "cell_type": "code",
   "execution_count": 10,
   "id": "ede649bc",
   "metadata": {},
   "outputs": [],
   "source": [
    "# pretrained_model = tf.keras.applications.ResNet50(\n",
    "#     include_top=False,\n",
    "#     weights=\"imagenet\",\n",
    "#     input_shape=(500, 500, 3),\n",
    "#     pooling=\"avg\",\n",
    "#     classes=3\n",
    "# )\n",
    "# for layer in pretrained_model.layers:\n",
    "#     layer.trainable = False"
   ]
  },
  {
   "cell_type": "code",
   "execution_count": 11,
   "id": "e344a8fd",
   "metadata": {},
   "outputs": [],
   "source": [
    "# model.add(pretrained_model)"
   ]
  },
  {
   "cell_type": "code",
   "execution_count": 26,
   "id": "7e85f2d4",
   "metadata": {},
   "outputs": [],
   "source": [
    "model.add(layers.Flatten())"
   ]
  },
  {
   "cell_type": "code",
   "execution_count": 27,
   "id": "3c43a8f4",
   "metadata": {},
   "outputs": [],
   "source": [
    "model.add(layers.Dense(128, activation=\"relu\"))"
   ]
  },
  {
   "cell_type": "code",
   "execution_count": 28,
   "id": "f52d6e4f",
   "metadata": {},
   "outputs": [],
   "source": [
    "model.add(layers.Dense(3, activation=\"softmax\"))"
   ]
  },
  {
   "cell_type": "code",
   "execution_count": 29,
   "id": "86d51493",
   "metadata": {},
   "outputs": [],
   "source": [
    "model.compile(optimizer = \"adam\", loss = \"sparse_categorical_crossentropy\", metrics = [\"accuracy\"])"
   ]
  },
  {
   "cell_type": "code",
   "execution_count": 30,
   "id": "aac2df9d",
   "metadata": {},
   "outputs": [],
   "source": [
    "tf.config.experimental_run_functions_eagerly(True)"
   ]
  },
  {
   "cell_type": "code",
   "execution_count": 31,
   "id": "2ea06a74",
   "metadata": {},
   "outputs": [
    {
     "name": "stdout",
     "output_type": "stream",
     "text": [
      "Epoch 1/10\n",
      "22/22 [==============================] - 298s 13s/step - loss: 1.9231 - accuracy: 0.5169 - val_loss: 1.1697 - val_accuracy: 0.3939\n",
      "Epoch 2/10\n",
      "22/22 [==============================] - 284s 13s/step - loss: 0.8101 - accuracy: 0.6652 - val_loss: 0.9592 - val_accuracy: 0.4949\n",
      "Epoch 3/10\n",
      "22/22 [==============================] - 282s 13s/step - loss: 0.7158 - accuracy: 0.7166 - val_loss: 1.1898 - val_accuracy: 0.4848\n",
      "Epoch 4/10\n",
      "22/22 [==============================] - 285s 13s/step - loss: 0.6664 - accuracy: 0.7430 - val_loss: 0.8984 - val_accuracy: 0.5859\n",
      "Epoch 5/10\n",
      "22/22 [==============================] - 285s 13s/step - loss: 0.4738 - accuracy: 0.8018 - val_loss: 1.0197 - val_accuracy: 0.5758\n",
      "Epoch 6/10\n",
      "22/22 [==============================] - 282s 13s/step - loss: 0.3448 - accuracy: 0.8620 - val_loss: 1.2931 - val_accuracy: 0.6566\n",
      "Epoch 7/10\n",
      "22/22 [==============================] - 284s 13s/step - loss: 0.2497 - accuracy: 0.9031 - val_loss: 1.3842 - val_accuracy: 0.6768\n",
      "Epoch 8/10\n",
      "22/22 [==============================] - 284s 13s/step - loss: 0.2949 - accuracy: 0.8972 - val_loss: 1.3342 - val_accuracy: 0.5758\n",
      "Epoch 9/10\n",
      "22/22 [==============================] - 281s 13s/step - loss: 0.1481 - accuracy: 0.9515 - val_loss: 2.1698 - val_accuracy: 0.5859\n",
      "Epoch 10/10\n",
      "22/22 [==============================] - 283s 13s/step - loss: 0.0542 - accuracy: 0.9809 - val_loss: 3.0342 - val_accuracy: 0.6162\n"
     ]
    },
    {
     "data": {
      "text/plain": [
       "<keras.callbacks.History at 0x17bff19db70>"
      ]
     },
     "execution_count": 31,
     "metadata": {},
     "output_type": "execute_result"
    }
   ],
   "source": [
    "model.fit(x_train, y_train, epochs = 10, validation_data = (x_test, y_test))"
   ]
  },
  {
   "cell_type": "code",
   "execution_count": 32,
   "id": "987232f5",
   "metadata": {},
   "outputs": [
    {
     "name": "stdout",
     "output_type": "stream",
     "text": [
      "4/4 [==============================] - 11s 3s/step - loss: 3.0342 - accuracy: 0.6162\n"
     ]
    },
    {
     "data": {
      "text/plain": [
       "0.6161616444587708"
      ]
     },
     "execution_count": 32,
     "metadata": {},
     "output_type": "execute_result"
    }
   ],
   "source": [
    "loss, accuracy = model.evaluate(x_test, y_test)\n",
    "accuracy"
   ]
  },
  {
   "cell_type": "code",
   "execution_count": null,
   "id": "4b3407db",
   "metadata": {},
   "outputs": [],
   "source": []
  }
 ],
 "metadata": {
  "kernelspec": {
   "display_name": "Python 3",
   "language": "python",
   "name": "python3"
  },
  "language_info": {
   "codemirror_mode": {
    "name": "ipython",
    "version": 3
   },
   "file_extension": ".py",
   "mimetype": "text/x-python",
   "name": "python",
   "nbconvert_exporter": "python",
   "pygments_lexer": "ipython3",
   "version": "3.6.13"
  }
 },
 "nbformat": 4,
 "nbformat_minor": 5
}
