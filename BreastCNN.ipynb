{
 "cells": [
  {
   "cell_type": "code",
   "execution_count": 1,
   "metadata": {
    "colab": {
     "base_uri": "https://localhost:8080/"
    },
    "id": "NkZuuPMbLx1B",
    "outputId": "1a075c4f-b58f-4d3b-e4dd-9b17e1ef65db"
   },
   "outputs": [
    {
     "name": "stdout",
     "output_type": "stream",
     "text": [
      "Mounted at /content/drive\n"
     ]
    }
   ],
   "source": [
    "from google.colab import drive\n",
    "drive.mount('/content/drive')"
   ]
  },
  {
   "cell_type": "code",
   "execution_count": 2,
   "metadata": {
    "id": "gn6U92c2Mtbj"
   },
   "outputs": [],
   "source": [
    "import cv2\n",
    "import os\n",
    "import matplotlib.pyplot as plt\n",
    "import numpy as np \n",
    "from tensorflow.keras import datasets,layers,models,utils\n",
    "import tensorflow as tf\n",
    "import pandas as pd"
   ]
  },
  {
   "cell_type": "code",
   "execution_count": 3,
   "metadata": {
    "colab": {
     "base_uri": "https://localhost:8080/"
    },
    "id": "aDuui5OuXWZi",
    "outputId": "ba9f2021-e38d-4c60-aeb7-207dbb32579b"
   },
   "outputs": [
    {
     "data": {
      "text/plain": [
       "1"
      ]
     },
     "execution_count": 3,
     "metadata": {},
     "output_type": "execute_result"
    }
   ],
   "source": [
    "gpus = tf.config.experimental.list_physical_devices(\"GPU\")\n",
    "len(gpus)"
   ]
  },
  {
   "cell_type": "code",
   "execution_count": 4,
   "metadata": {
    "id": "IAa54TmsXZQA"
   },
   "outputs": [],
   "source": [
    "for gpu in gpus:\n",
    "    tf.config.experimental.set_memory_growth(gpu, True)"
   ]
  },
  {
   "cell_type": "code",
   "execution_count": 5,
   "metadata": {
    "colab": {
     "base_uri": "https://localhost:8080/"
    },
    "id": "0f6ktDN7Xbeg",
    "outputId": "66024f7c-9b14-4f31-e9e4-c58ebfe8b669"
   },
   "outputs": [
    {
     "name": "stdout",
     "output_type": "stream",
     "text": [
      "Found 681 files belonging to 3 classes.\n"
     ]
    }
   ],
   "source": [
    "data = utils.image_dataset_from_directory(\"/content/drive/MyDrive/CV2023CSYSDataset/Breast scans train\", image_size=(256, 256))"
   ]
  },
  {
   "cell_type": "code",
   "execution_count": 6,
   "metadata": {
    "id": "6pqEvv1gXhxA"
   },
   "outputs": [],
   "source": [
    "data = data.map(lambda x,y:(x/255, y))"
   ]
  },
  {
   "cell_type": "code",
   "execution_count": 7,
   "metadata": {
    "id": "_F9EJG4OXkrw"
   },
   "outputs": [],
   "source": [
    "train_size = int(len(data) * 0.8)\n",
    "val_size = int(len(data) * 0.2) +1"
   ]
  },
  {
   "cell_type": "code",
   "execution_count": 8,
   "metadata": {
    "id": "SN1Yt9EoXmh1"
   },
   "outputs": [],
   "source": [
    "train_data = data.take(train_size)\n",
    "val_data = data.skip(train_size).take(val_size)"
   ]
  },
  {
   "cell_type": "code",
   "execution_count": 9,
   "metadata": {
    "colab": {
     "base_uri": "https://localhost:8080/"
    },
    "id": "f-fd-nHfXokM",
    "outputId": "e8d324d7-3f0e-4547-83ff-09ebdd83cac8"
   },
   "outputs": [
    {
     "name": "stdout",
     "output_type": "stream",
     "text": [
      "Found 99 files belonging to 3 classes.\n"
     ]
    }
   ],
   "source": [
    "test_data = utils.image_dataset_from_directory(\"/content/drive/MyDrive/CV2023CSYSDataset/Breast scans test\",image_size=(256, 256))\n",
    "test_data = test_data.map(lambda x,y:(x/255, y))\n",
    "test_data = test_data.take(len(test_data))"
   ]
  },
  {
   "cell_type": "code",
   "execution_count": 22,
   "metadata": {
    "id": "xWuarxJwXsd8"
   },
   "outputs": [],
   "source": [
    "model = models.Sequential()"
   ]
  },
  {
   "cell_type": "code",
   "execution_count": 23,
   "metadata": {
    "id": "HfOvwJPlXut8"
   },
   "outputs": [],
   "source": [
    "# Layer 1\n",
    "model.add(layers.Conv2D(32, (5,5), 1, activation = \"relu\", input_shape = (256,256,3)))\n",
    "model.add(layers.MaxPooling2D())\n",
    "#Layer 2\n",
    "model.add(layers.Conv2D(64, (5,5), 1, activation = \"relu\"))\n",
    "model.add(layers.MaxPooling2D())\n",
    "#Layer 3\n",
    "model.add(layers.Conv2D(128, (5,5), 1, activation = \"relu\"))\n",
    "model.add(layers.MaxPooling2D())\n",
    "#Layer 4\n",
    "model.add(layers.Conv2D(64, (5,5), 1, activation = \"relu\"))\n",
    "model.add(layers.MaxPooling2D())\n",
    "#Layer 5\n",
    "model.add(layers.Conv2D(32, (5,5), 1, activation = \"relu\"))\n",
    "model.add(layers.MaxPooling2D())\n",
    "#Final Layer\n",
    "model.add(layers.Flatten())\n",
    "#Fully Connected\n",
    "model.add(layers.Dense(256, activation=\"relu\"))\n",
    "model.add(layers.Dense(3, activation=\"softmax\"))"
   ]
  },
  {
   "cell_type": "code",
   "execution_count": null,
   "metadata": {
    "id": "DCu_MOJq0_oG"
   },
   "outputs": [],
   "source": [
    "# model.add(layers.Conv2D(filters=96, kernel_size=(11,11), strides=(4,4), activation='relu', input_shape=(227,227,3)))\n",
    "# model.add(layers.BatchNormalization())\n",
    "# model.add(layers.MaxPool2D(pool_size=(3,3), strides=(2,2)))\n",
    "# model.add(layers.Conv2D(filters=256, kernel_size=(5,5), strides=(1,1), activation='relu', padding=\"same\"))\n",
    "# model.add(layers.BatchNormalization())\n",
    "# model.add(layers.MaxPool2D(pool_size=(3,3), strides=(2,2)))\n",
    "# model.add(layers.Conv2D(filters=384, kernel_size=(3,3), strides=(1,1), activation='relu', padding=\"same\"))\n",
    "# model.add(layers.BatchNormalization())\n",
    "# model.add(layers.Conv2D(filters=384, kernel_size=(3,3), strides=(1,1), activation='relu', padding=\"same\"))\n",
    "# model.add(layers.BatchNormalization())\n",
    "# model.add(layers.Conv2D(filters=256, kernel_size=(3,3), strides=(1,1), activation='relu', padding=\"same\"))\n",
    "# model.add(layers.BatchNormalization())\n",
    "# model.add(layers.MaxPool2D(pool_size=(3,3), strides=(2,2)))\n",
    "# model.add(layers.Flatten())\n",
    "# model.add(layers.Dense(4096, activation='relu'))\n",
    "# model.add(layers.Dropout(0.5))\n",
    "# model.add(layers.Dense(4096, activation='relu'))\n",
    "# model.add(layers.Dropout(0.5))\n",
    "# model.add(layers.Dense(3, activation='softmax'))"
   ]
  },
  {
   "cell_type": "code",
   "execution_count": 24,
   "metadata": {
    "id": "dmxV4ebBXxWc"
   },
   "outputs": [],
   "source": [
    "model.compile(optimizer = \"adam\", loss = \"sparse_categorical_crossentropy\", metrics = [\"accuracy\"])"
   ]
  },
  {
   "cell_type": "code",
   "execution_count": 25,
   "metadata": {
    "colab": {
     "base_uri": "https://localhost:8080/"
    },
    "id": "AmFWxAMwXz1N",
    "outputId": "ad303bda-01eb-430e-cf79-47375d8823d3"
   },
   "outputs": [
    {
     "name": "stdout",
     "output_type": "stream",
     "text": [
      "Model: \"sequential_2\"\n",
      "_________________________________________________________________\n",
      " Layer (type)                Output Shape              Param #   \n",
      "=================================================================\n",
      " conv2d_8 (Conv2D)           (None, 252, 252, 32)      2432      \n",
      "                                                                 \n",
      " max_pooling2d_8 (MaxPooling  (None, 126, 126, 32)     0         \n",
      " 2D)                                                             \n",
      "                                                                 \n",
      " conv2d_9 (Conv2D)           (None, 122, 122, 64)      51264     \n",
      "                                                                 \n",
      " max_pooling2d_9 (MaxPooling  (None, 61, 61, 64)       0         \n",
      " 2D)                                                             \n",
      "                                                                 \n",
      " conv2d_10 (Conv2D)          (None, 57, 57, 128)       204928    \n",
      "                                                                 \n",
      " max_pooling2d_10 (MaxPoolin  (None, 28, 28, 128)      0         \n",
      " g2D)                                                            \n",
      "                                                                 \n",
      " conv2d_11 (Conv2D)          (None, 24, 24, 64)        204864    \n",
      "                                                                 \n",
      " max_pooling2d_11 (MaxPoolin  (None, 12, 12, 64)       0         \n",
      " g2D)                                                            \n",
      "                                                                 \n",
      " conv2d_12 (Conv2D)          (None, 8, 8, 32)          51232     \n",
      "                                                                 \n",
      " max_pooling2d_12 (MaxPoolin  (None, 4, 4, 32)         0         \n",
      " g2D)                                                            \n",
      "                                                                 \n",
      " flatten_2 (Flatten)         (None, 512)               0         \n",
      "                                                                 \n",
      " dense_4 (Dense)             (None, 256)               131328    \n",
      "                                                                 \n",
      " dense_5 (Dense)             (None, 3)                 771       \n",
      "                                                                 \n",
      "=================================================================\n",
      "Total params: 646,819\n",
      "Trainable params: 646,819\n",
      "Non-trainable params: 0\n",
      "_________________________________________________________________\n"
     ]
    }
   ],
   "source": [
    "model.summary()"
   ]
  },
  {
   "cell_type": "code",
   "execution_count": 26,
   "metadata": {
    "id": "W9BKt4OwX1pA"
   },
   "outputs": [],
   "source": [
    "logdir = '/content/drive/MyDrive/CV2023CSYSDataset/logs'\n",
    "tensorboard_callback = tf.keras.callbacks.TensorBoard(log_dir = logdir)"
   ]
  },
  {
   "cell_type": "code",
   "execution_count": 27,
   "metadata": {
    "colab": {
     "base_uri": "https://localhost:8080/"
    },
    "id": "sLkwfFHlYFHy",
    "outputId": "b4a73f30-83ed-48df-ba9e-9975375c8e8e"
   },
   "outputs": [
    {
     "name": "stdout",
     "output_type": "stream",
     "text": [
      "Epoch 1/20\n",
      "17/17 [==============================] - 11s 470ms/step - loss: 0.9640 - accuracy: 0.6011 - val_loss: 0.9526 - val_accuracy: 0.5620\n",
      "Epoch 2/20\n",
      "17/17 [==============================] - 9s 459ms/step - loss: 0.8806 - accuracy: 0.6379 - val_loss: 0.8798 - val_accuracy: 0.6058\n",
      "Epoch 3/20\n",
      "17/17 [==============================] - 9s 460ms/step - loss: 0.8419 - accuracy: 0.6526 - val_loss: 0.7380 - val_accuracy: 0.6715\n",
      "Epoch 4/20\n",
      "17/17 [==============================] - 9s 457ms/step - loss: 0.8686 - accuracy: 0.6526 - val_loss: 0.8916 - val_accuracy: 0.5985\n",
      "Epoch 5/20\n",
      "17/17 [==============================] - 9s 457ms/step - loss: 0.8457 - accuracy: 0.6599 - val_loss: 0.8120 - val_accuracy: 0.6350\n",
      "Epoch 6/20\n",
      "17/17 [==============================] - 9s 455ms/step - loss: 0.7566 - accuracy: 0.6562 - val_loss: 0.7009 - val_accuracy: 0.6642\n",
      "Epoch 7/20\n",
      "17/17 [==============================] - 9s 466ms/step - loss: 0.7028 - accuracy: 0.6746 - val_loss: 0.6057 - val_accuracy: 0.7445\n",
      "Epoch 8/20\n",
      "17/17 [==============================] - 9s 458ms/step - loss: 0.7001 - accuracy: 0.6985 - val_loss: 0.7270 - val_accuracy: 0.6642\n",
      "Epoch 9/20\n",
      "17/17 [==============================] - 9s 462ms/step - loss: 0.6872 - accuracy: 0.7059 - val_loss: 0.6150 - val_accuracy: 0.7153\n",
      "Epoch 10/20\n",
      "17/17 [==============================] - 11s 553ms/step - loss: 0.6605 - accuracy: 0.7096 - val_loss: 0.7599 - val_accuracy: 0.6204\n",
      "Epoch 11/20\n",
      "17/17 [==============================] - 9s 461ms/step - loss: 0.6576 - accuracy: 0.7096 - val_loss: 0.6525 - val_accuracy: 0.7007\n",
      "Epoch 12/20\n",
      "17/17 [==============================] - 9s 457ms/step - loss: 0.5754 - accuracy: 0.7408 - val_loss: 0.6033 - val_accuracy: 0.7153\n",
      "Epoch 13/20\n",
      "17/17 [==============================] - 9s 467ms/step - loss: 0.5579 - accuracy: 0.7629 - val_loss: 0.6359 - val_accuracy: 0.7226\n",
      "Epoch 14/20\n",
      "17/17 [==============================] - 10s 465ms/step - loss: 0.4665 - accuracy: 0.8051 - val_loss: 0.4814 - val_accuracy: 0.7810\n",
      "Epoch 15/20\n",
      "17/17 [==============================] - 9s 462ms/step - loss: 0.4183 - accuracy: 0.8401 - val_loss: 0.2933 - val_accuracy: 0.8905\n",
      "Epoch 16/20\n",
      "17/17 [==============================] - 9s 462ms/step - loss: 0.3648 - accuracy: 0.8566 - val_loss: 0.4404 - val_accuracy: 0.8175\n",
      "Epoch 17/20\n",
      "17/17 [==============================] - 9s 464ms/step - loss: 0.3623 - accuracy: 0.8658 - val_loss: 0.2755 - val_accuracy: 0.8978\n",
      "Epoch 18/20\n",
      "17/17 [==============================] - 9s 464ms/step - loss: 0.2932 - accuracy: 0.8934 - val_loss: 0.2775 - val_accuracy: 0.8759\n",
      "Epoch 19/20\n",
      "17/17 [==============================] - 9s 464ms/step - loss: 0.2141 - accuracy: 0.9375 - val_loss: 0.2793 - val_accuracy: 0.8905\n",
      "Epoch 20/20\n",
      "17/17 [==============================] - 9s 460ms/step - loss: 0.2542 - accuracy: 0.9154 - val_loss: 0.2217 - val_accuracy: 0.9197\n"
     ]
    }
   ],
   "source": [
    "hist = model.fit(train_data, epochs = 20, validation_data = val_data)"
   ]
  },
  {
   "cell_type": "code",
   "execution_count": null,
   "metadata": {
    "colab": {
     "base_uri": "https://localhost:8080/"
    },
    "id": "Y210Mi3ZZ4SS",
    "outputId": "4392189a-634b-4da1-b72d-a180a669a1ae"
   },
   "outputs": [
    {
     "data": {
      "text/plain": [
       "{'loss': [0.9336738586425781,\n",
       "  0.7906802892684937,\n",
       "  0.6999703049659729,\n",
       "  0.5491018295288086,\n",
       "  0.3800866901874542,\n",
       "  0.23425231873989105,\n",
       "  0.22118686139583588,\n",
       "  0.16380003094673157,\n",
       "  0.0928230956196785,\n",
       "  0.053673774003982544,\n",
       "  0.03578950837254524,\n",
       "  0.02460000477731228,\n",
       "  0.010177758522331715,\n",
       "  0.008261033333837986,\n",
       "  0.026383325457572937,\n",
       "  0.022430123761296272,\n",
       "  0.009467586874961853,\n",
       "  0.009024407714605331,\n",
       "  0.012254214845597744,\n",
       "  0.017607031390070915],\n",
       " 'accuracy': [0.6158088445663452,\n",
       "  0.6654411554336548,\n",
       "  0.6838235259056091,\n",
       "  0.7665441036224365,\n",
       "  0.845588207244873,\n",
       "  0.9136029481887817,\n",
       "  0.9227941036224365,\n",
       "  0.9522058963775635,\n",
       "  0.9632353186607361,\n",
       "  0.9779411554336548,\n",
       "  0.9926470518112183,\n",
       "  0.9944853186607361,\n",
       "  1.0,\n",
       "  0.998161792755127,\n",
       "  0.9944853186607361,\n",
       "  0.9926470518112183,\n",
       "  0.998161792755127,\n",
       "  0.998161792755127,\n",
       "  0.9963235259056091,\n",
       "  0.9963235259056091],\n",
       " 'val_loss': [0.9106011986732483,\n",
       "  0.7327209115028381,\n",
       "  0.6599723100662231,\n",
       "  0.4146655797958374,\n",
       "  0.26687243580818176,\n",
       "  0.22511999309062958,\n",
       "  0.2179434597492218,\n",
       "  0.13365890085697174,\n",
       "  0.048585932701826096,\n",
       "  0.03980552405118942,\n",
       "  0.06222505494952202,\n",
       "  0.015385407023131847,\n",
       "  0.01750439591705799,\n",
       "  0.014604265801608562,\n",
       "  0.10692033171653748,\n",
       "  0.011223026551306248,\n",
       "  0.023274792358279228,\n",
       "  0.0832986980676651,\n",
       "  0.026779359206557274,\n",
       "  0.005339884664863348],\n",
       " 'val_accuracy': [0.525547444820404,\n",
       "  0.7153284549713135,\n",
       "  0.6934306621551514,\n",
       "  0.8467153310775757,\n",
       "  0.9124087691307068,\n",
       "  0.9124087691307068,\n",
       "  0.9270073175430298,\n",
       "  0.9489051103591919,\n",
       "  0.985401451587677,\n",
       "  0.9927007555961609,\n",
       "  0.9781022071838379,\n",
       "  1.0,\n",
       "  0.9927007555961609,\n",
       "  0.9927007555961609,\n",
       "  0.985401451587677,\n",
       "  0.9927007555961609,\n",
       "  0.9927007555961609,\n",
       "  0.985401451587677,\n",
       "  0.9927007555961609,\n",
       "  1.0]}"
      ]
     },
     "execution_count": 15,
     "metadata": {},
     "output_type": "execute_result"
    }
   ],
   "source": [
    "hist.history"
   ]
  },
  {
   "cell_type": "code",
   "execution_count": 28,
   "metadata": {
    "colab": {
     "base_uri": "https://localhost:8080/"
    },
    "id": "CuhQiiKac-uE",
    "outputId": "bccbda84-1aed-4ffb-ee0a-52db24afd477"
   },
   "outputs": [
    {
     "name": "stderr",
     "output_type": "stream",
     "text": [
      "WARNING:absl:Found untraced functions such as _jit_compiled_convolution_op, _jit_compiled_convolution_op, _jit_compiled_convolution_op, _jit_compiled_convolution_op, _jit_compiled_convolution_op while saving (showing 5 of 5). These functions will not be directly callable after loading.\n"
     ]
    }
   ],
   "source": [
    "model.save(\"/content/drive/MyDrive/CV2023CSYSDataset/BreastCNN\")"
   ]
  },
  {
   "cell_type": "code",
   "execution_count": null,
   "metadata": {
    "id": "7S8BFoE5fp7z"
   },
   "outputs": [],
   "source": [
    "loaded_model = tf.keras.models.load_model('/content/drive/MyDrive/CV2023CSYSDataset/BreastNN')"
   ]
  },
  {
   "cell_type": "code",
   "execution_count": 29,
   "metadata": {
    "colab": {
     "base_uri": "https://localhost:8080/",
     "height": 294
    },
    "id": "8RT8BD49aReC",
    "outputId": "dfbc5a70-1d25-4d89-a7d1-96a1ac76c326"
   },
   "outputs": [
    {
     "data": {
      "image/png": "[encoded data removed]",
      "text/plain": [
       "<Figure size 432x288 with 1 Axes>"
      ]
     },
     "metadata": {
      "needs_background": "light"
     },
     "output_type": "display_data"
    }
   ],
   "source": [
    "fig = plt.figure()\n",
    "plt.plot(hist.history['loss'], color='blue', label='train loss')\n",
    "plt.plot(hist.history['val_loss'], color='red', label='validate loss')\n",
    "fig.suptitle('Loss', fontsize=20)\n",
    "plt.legend(loc=\"upper left\")\n",
    "plt.show()"
   ]
  },
  {
   "cell_type": "code",
   "execution_count": 30,
   "metadata": {
    "colab": {
     "base_uri": "https://localhost:8080/",
     "height": 294
    },
    "id": "MMVnKW7HawlI",
    "outputId": "5b399bfb-9fb3-47d9-df47-ae9733a401ce"
   },
   "outputs": [
    {
     "data": {
      "image/png": "[encoded data removed]",
      "text/plain": [
       "<Figure size 432x288 with 1 Axes>"
      ]
     },
     "metadata": {
      "needs_background": "light"
     },
     "output_type": "display_data"
    }
   ],
   "source": [
    "fig = plt.figure()\n",
    "plt.plot(hist.history['accuracy'], color='green', label='train accuracy')\n",
    "plt.plot(hist.history['val_accuracy'], color='orange', label='validate accuracy')\n",
    "fig.suptitle('Accuracy', fontsize=20)\n",
    "plt.legend(loc=\"upper left\")\n",
    "plt.show()"
   ]
  },
  {
   "cell_type": "code",
   "execution_count": null,
   "metadata": {
    "id": "nZ6lwbAicgrJ"
   },
   "outputs": [],
   "source": [
    "accuracy = tf.keras.metrics.Accuracy()"
   ]
  },
  {
   "cell_type": "code",
   "execution_count": null,
   "metadata": {
    "colab": {
     "base_uri": "https://localhost:8080/"
    },
    "id": "3_-_dGELgRuS",
    "outputId": "151c8d70-9600-4707-f6b2-e49ca897920a"
   },
   "outputs": [
    {
     "name": "stdout",
     "output_type": "stream",
     "text": [
      "1/1 [==============================] - 0s 77ms/step\n"
     ]
    }
   ],
   "source": [
    "accuracies = []\n",
    "# for batch in test_data.as_numpy_iterator():\n",
    "x,y = test_data.as_numpy_iterator().next()\n",
    "y_pred = model.predict(x)\n",
    "acc = accuracy.update_state(y, y_pred[:,0])\n",
    "accuracies.append(acc)"
   ]
  },
  {
   "cell_type": "code",
   "execution_count": null,
   "metadata": {
    "colab": {
     "base_uri": "https://localhost:8080/"
    },
    "id": "mrBAiYqkg1qR",
    "outputId": "0830c596-82b3-46fa-d284-cf1f89046f08"
   },
   "outputs": [
    {
     "data": {
      "text/plain": [
       "array([[9.83662605e-01, 6.30168384e-03, 1.00356936e-02],\n",
       "       [6.12822808e-02, 7.18629837e-01, 2.20087782e-01],\n",
       "       [1.46923363e-01, 3.43468226e-02, 8.18729818e-01],\n",
       "       [2.34412684e-04, 9.99762237e-01, 3.34219339e-06],\n",
       "       [4.37791385e-02, 9.56204295e-01, 1.65968577e-05],\n",
       "       [2.61636474e-03, 9.83307719e-01, 1.40759936e-02],\n",
       "       [3.04010813e-03, 9.96936798e-01, 2.30445676e-05],\n",
       "       [9.30276420e-03, 8.07096623e-03, 9.82626319e-01],\n",
       "       [1.21910125e-03, 9.98762488e-01, 1.84191249e-05],\n",
       "       [8.31724517e-03, 1.73902232e-03, 9.89943743e-01],\n",
       "       [1.86778978e-01, 8.13036978e-01, 1.84090648e-04],\n",
       "       [7.19391450e-04, 8.20758753e-03, 9.91073072e-01],\n",
       "       [9.83170927e-01, 1.68274976e-02, 1.51979771e-06],\n",
       "       [6.13876462e-01, 3.85348469e-01, 7.75049208e-04],\n",
       "       [3.80166178e-03, 9.96198356e-01, 4.06060821e-08],\n",
       "       [1.46696463e-01, 8.50063384e-01, 3.24023678e-03],\n",
       "       [9.65209544e-01, 5.08071203e-03, 2.97097489e-02],\n",
       "       [9.94177341e-01, 1.18531455e-06, 5.82149765e-03],\n",
       "       [5.37890971e-01, 2.26393589e-04, 4.61882591e-01],\n",
       "       [6.33632764e-03, 5.74109733e-01, 4.19553906e-01],\n",
       "       [1.24130200e-03, 4.04602179e-04, 9.98354077e-01],\n",
       "       [8.08185160e-01, 1.29652858e-01, 6.21619932e-02],\n",
       "       [9.09003735e-01, 9.09266174e-02, 6.96234492e-05],\n",
       "       [9.97174144e-01, 1.03944191e-03, 1.78639544e-03],\n",
       "       [3.81426923e-02, 9.60777640e-01, 1.07967050e-03],\n",
       "       [2.73921221e-01, 7.09616363e-01, 1.64624527e-02],\n",
       "       [9.62092876e-01, 7.65652396e-04, 3.71414237e-02],\n",
       "       [6.61592841e-01, 3.38001937e-01, 4.05256345e-04],\n",
       "       [9.84680772e-01, 1.53065193e-02, 1.27314961e-05],\n",
       "       [8.75155151e-01, 1.24779806e-01, 6.49577778e-05],\n",
       "       [9.98070061e-01, 2.08829370e-04, 1.72120600e-03],\n",
       "       [1.00000000e+00, 7.52522133e-09, 8.90194654e-11]], dtype=float32)"
      ]
     },
     "execution_count": 89,
     "metadata": {},
     "output_type": "execute_result"
    }
   ],
   "source": [
    "y_pred"
   ]
  },
  {
   "cell_type": "code",
   "execution_count": null,
   "metadata": {
    "colab": {
     "base_uri": "https://localhost:8080/"
    },
    "id": "vErSY3cW8oa_",
    "outputId": "7cafb92e-2dca-45de-da07-3094084bbc95"
   },
   "outputs": [
    {
     "data": {
      "text/plain": [
       "array([2, 1, 0, 1, 1, 1, 1, 2, 1, 2, 0, 2, 1, 1, 0, 0, 2, 1, 0, 1, 2, 1,\n",
       "       0, 0, 0, 2, 2, 0, 1, 2, 0, 0], dtype=int32)"
      ]
     },
     "execution_count": 92,
     "metadata": {},
     "output_type": "execute_result"
    }
   ],
   "source": [
    "y"
   ]
  },
  {
   "cell_type": "code",
   "execution_count": null,
   "metadata": {
    "id": "7sQob-QkhKRJ"
   },
   "outputs": [],
   "source": [
    "test_benign = tf.image.resize(cv2.imread(\"/content/drive/MyDrive/CV2023CSYSDataset/Breast scans/benign/Test/benign (429).png\"), (256,256))\n",
    "test_malignant = tf.image.resize(cv2.imread(\"/content/drive/MyDrive/CV2023CSYSDataset/Breast scans/malignant/Test/malignant (204).png\"), (256,256))\n",
    "test_normal = tf.image.resize(cv2.imread(\"/content/drive/MyDrive/CV2023CSYSDataset/Breast scans/normal/Test/normal (131).png\"), (256,256))"
   ]
  },
  {
   "cell_type": "code",
   "execution_count": null,
   "metadata": {
    "colab": {
     "base_uri": "https://localhost:8080/"
    },
    "id": "HVF6vP0nmgHy",
    "outputId": "ec2d6634-7eda-4588-da74-4ffb6b0340df"
   },
   "outputs": [
    {
     "name": "stdout",
     "output_type": "stream",
     "text": [
      "1/1 [==============================] - 0s 17ms/step\n",
      "1/1 [==============================] - 0s 22ms/step\n",
      "1/1 [==============================] - 0s 18ms/step\n"
     ]
    }
   ],
   "source": [
    "pred_benign = loaded_model.predict(np.expand_dims(test_benign / 255 , 0)).tolist()\n",
    "pred_malignant = loaded_model.predict(np.expand_dims(test_malignant / 255 , 0)).tolist()\n",
    "pred_normal = loaded_model.predict(np.expand_dims(test_normal / 255 , 0)).tolist()"
   ]
  },
  {
   "cell_type": "code",
   "execution_count": null,
   "metadata": {
    "colab": {
     "base_uri": "https://localhost:8080/"
    },
    "id": "yzLdFXKRm5vK",
    "outputId": "d9db0aca-5c7c-4fe6-8977-7aefe5e40832"
   },
   "outputs": [
    {
     "data": {
      "text/plain": [
       "1"
      ]
     },
     "execution_count": 57,
     "metadata": {},
     "output_type": "execute_result"
    }
   ],
   "source": [
    "pred_malignant[0].index(max(pred_malignant[0]))"
   ]
  },
  {
   "cell_type": "code",
   "execution_count": null,
   "metadata": {
    "id": "JNMjic0ho0MS"
   },
   "outputs": [],
   "source": []
  }
 ],
 "metadata": {
  "accelerator": "GPU",
  "colab": {
   "provenance": []
  },
  "gpuClass": "standard",
  "kernelspec": {
   "display_name": "Python 3",
   "language": "python",
   "name": "python3"
  },
  "language_info": {
   "codemirror_mode": {
    "name": "ipython",
    "version": 3
   },
   "file_extension": ".py",
   "mimetype": "text/x-python",
   "name": "python",
   "nbconvert_exporter": "python",
   "pygments_lexer": "ipython3",
   "version": "3.6.13"
  }
 },
 "nbformat": 4,
 "nbformat_minor": 1
}
