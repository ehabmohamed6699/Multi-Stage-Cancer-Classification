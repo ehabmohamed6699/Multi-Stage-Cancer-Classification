{
 "cells": [
  {
   "cell_type": "code",
   "execution_count": 2,
   "id": "b716638d",
   "metadata": {},
   "outputs": [],
   "source": [
    "import cv2\n",
    "import os\n",
    "import matplotlib.pyplot as plt\n",
    "import numpy as np \n",
    "from tensorflow.keras import datasets,layers,models,utils\n",
    "import tensorflow as tf\n",
    "import pandas as pd"
   ]
  },
  {
   "cell_type": "code",
   "execution_count": 3,
   "id": "51b6867e",
   "metadata": {},
   "outputs": [
    {
     "data": {
      "text/plain": [
       "1"
      ]
     },
     "execution_count": 3,
     "metadata": {},
     "output_type": "execute_result"
    }
   ],
   "source": [
    "gpus = tf.config.experimental.list_physical_devices(\"GPU\")\n",
    "len(gpus)"
   ]
  },
  {
   "cell_type": "code",
   "execution_count": 55,
   "id": "685478a6",
   "metadata": {},
   "outputs": [],
   "source": [
    "for gpu in gpus:\n",
    "    tf.config.experimental.set_memory_growth(gpu, True)"
   ]
  },
  {
   "cell_type": "code",
   "execution_count": 6,
   "id": "92f989f9",
   "metadata": {},
   "outputs": [
    {
     "data": {
      "text/html": [
       "<div>\n",
       "<style scoped>\n",
       "    .dataframe tbody tr th:only-of-type {\n",
       "        vertical-align: middle;\n",
       "    }\n",
       "\n",
       "    .dataframe tbody tr th {\n",
       "        vertical-align: top;\n",
       "    }\n",
       "\n",
       "    .dataframe thead th {\n",
       "        text-align: right;\n",
       "    }\n",
       "</style>\n",
       "<table border=\"1\" class=\"dataframe\">\n",
       "  <thead>\n",
       "    <tr style=\"text-align: right;\">\n",
       "      <th></th>\n",
       "      <th>path</th>\n",
       "      <th>type</th>\n",
       "      <th>diagnose</th>\n",
       "    </tr>\n",
       "  </thead>\n",
       "  <tbody>\n",
       "    <tr>\n",
       "      <th>0</th>\n",
       "      <td>./Brain scans\\Tumor\\TRAIN\\y0.jpg</td>\n",
       "      <td>brain</td>\n",
       "      <td>tumor</td>\n",
       "    </tr>\n",
       "    <tr>\n",
       "      <th>1</th>\n",
       "      <td>./Brain scans\\Tumor\\TRAIN\\y1.jpg</td>\n",
       "      <td>brain</td>\n",
       "      <td>tumor</td>\n",
       "    </tr>\n",
       "    <tr>\n",
       "      <th>2</th>\n",
       "      <td>./Brain scans\\Tumor\\TRAIN\\y10.jpg</td>\n",
       "      <td>brain</td>\n",
       "      <td>tumor</td>\n",
       "    </tr>\n",
       "    <tr>\n",
       "      <th>3</th>\n",
       "      <td>./Brain scans\\Tumor\\TRAIN\\y100.jpg</td>\n",
       "      <td>brain</td>\n",
       "      <td>tumor</td>\n",
       "    </tr>\n",
       "    <tr>\n",
       "      <th>4</th>\n",
       "      <td>./Brain scans\\Tumor\\TRAIN\\y101.jpg</td>\n",
       "      <td>brain</td>\n",
       "      <td>tumor</td>\n",
       "    </tr>\n",
       "  </tbody>\n",
       "</table>\n",
       "</div>"
      ],
      "text/plain": [
       "                                 path   type diagnose\n",
       "0    ./Brain scans\\Tumor\\TRAIN\\y0.jpg  brain    tumor\n",
       "1    ./Brain scans\\Tumor\\TRAIN\\y1.jpg  brain    tumor\n",
       "2   ./Brain scans\\Tumor\\TRAIN\\y10.jpg  brain    tumor\n",
       "3  ./Brain scans\\Tumor\\TRAIN\\y100.jpg  brain    tumor\n",
       "4  ./Brain scans\\Tumor\\TRAIN\\y101.jpg  brain    tumor"
      ]
     },
     "execution_count": 6,
     "metadata": {},
     "output_type": "execute_result"
    }
   ],
   "source": [
    "df = pd.read_csv(\"./train.csv\")\n",
    "test_df = pd.read_csv(\"./test.csv\")\n",
    "df.head()"
   ]
  },
  {
   "cell_type": "code",
   "execution_count": null,
   "id": "08b94a4b",
   "metadata": {},
   "outputs": [],
   "source": [
    "# x_train = []\n",
    "# x_test = []\n",
    "# for path in df[df['type'] == \"breast\"][\"path\"]:\n",
    "#     x_train.append(cv2.resize(cv2.imread(path), (500,500)) / 255)\n",
    "# for path in test_df[test_df['type'] == \"breast\"][\"path\"]:\n",
    "#     x_test.append(cv2.resize(cv2.imread(path), (500,500)) / 255)"
   ]
  },
  {
   "cell_type": "code",
   "execution_count": 11,
   "id": "fdbeb3bd",
   "metadata": {},
   "outputs": [
    {
     "name": "stdout",
     "output_type": "stream",
     "text": [
      "Found 681 files belonging to 3 classes.\n"
     ]
    }
   ],
   "source": [
    "data = utils.image_dataset_from_directory(\"Breast scans train\")"
   ]
  },
  {
   "cell_type": "code",
   "execution_count": 12,
   "id": "bbb8fcf1",
   "metadata": {},
   "outputs": [],
   "source": [
    "data_iterator = data.as_numpy_iterator()"
   ]
  },
  {
   "cell_type": "code",
   "execution_count": 13,
   "id": "03da147a",
   "metadata": {},
   "outputs": [],
   "source": [
    "batch = data_iterator.next()"
   ]
  },
  {
   "cell_type": "code",
   "execution_count": 14,
   "id": "1e91f324",
   "metadata": {},
   "outputs": [
    {
     "data": {
      "text/plain": [
       "(array([[[[ 19.804916 ,  19.804916 ,  19.804916 ],\n",
       "          [133.27159  , 133.27159  , 133.27159  ],\n",
       "          [ 87.27597  ,  87.27597  ,  87.27597  ],\n",
       "          ...,\n",
       "          [197.40234  , 197.40234  , 197.40234  ],\n",
       "          [193.20737  , 193.20737  , 193.20737  ],\n",
       "          [192.17624  , 192.17624  , 192.17624  ]],\n",
       " \n",
       "         [[  9.400154 ,   9.400154 ,   9.400154 ],\n",
       "          [175.12274  , 175.12274  , 175.12274  ],\n",
       "          [ 33.554962 ,  33.554962 ,  33.554962 ],\n",
       "          ...,\n",
       "          [196.15454  , 196.15454  , 196.15454  ],\n",
       "          [195.86823  , 195.86823  , 195.86823  ],\n",
       "          [194.03252  , 194.03252  , 194.03252  ]],\n",
       " \n",
       "         [[  7.7560577,   7.7560577,   7.7560577],\n",
       "          [134.86108  , 134.86108  , 134.86108  ],\n",
       "          [200.81717  , 200.81717  , 200.81717  ],\n",
       "          ...,\n",
       "          [187.99805  , 187.99805  , 187.99805  ],\n",
       "          [174.63306  , 174.63306  , 174.63306  ],\n",
       "          [167.11914  , 167.11914  , 167.11914  ]],\n",
       " \n",
       "         ...,\n",
       " \n",
       "         [[ 20.144531 ,  20.144531 ,  20.144531 ],\n",
       "          [ 22.52539  ,  22.52539  ,  22.52539  ],\n",
       "          [ 26.064453 ,  26.064453 ,  26.064453 ],\n",
       "          ...,\n",
       "          [ 34.377228 ,  34.377228 ,  34.377228 ],\n",
       "          [ 31.52977  ,  31.52977  ,  31.52977  ],\n",
       "          [ 31.422447 ,  31.422447 ,  31.422447 ]],\n",
       " \n",
       "         [[ 19.415672 ,  19.415672 ,  19.415672 ],\n",
       "          [ 18.546875 ,  18.546875 ,  18.546875 ],\n",
       "          [ 16.660156 ,  16.660156 ,  16.660156 ],\n",
       "          ...,\n",
       "          [ 25.830849 ,  25.830849 ,  25.830849 ],\n",
       "          [ 23.447372 ,  23.447372 ,  23.447372 ],\n",
       "          [ 25.064453 ,  25.064453 ,  25.064453 ]],\n",
       " \n",
       "         [[ 16.529297 ,  16.529297 ,  16.529297 ],\n",
       "          [ 13.371094 ,  13.371094 ,  13.371094 ],\n",
       "          [ 14.162109 ,  14.162109 ,  14.162109 ],\n",
       "          ...,\n",
       "          [ 24.664635 ,  24.664635 ,  24.664635 ],\n",
       "          [ 30.566063 ,  30.566063 ,  30.566063 ],\n",
       "          [ 30.669693 ,  30.669693 ,  30.669693 ]]],\n",
       " \n",
       " \n",
       "        [[[235.00427  , 235.00427  , 235.00427  ],\n",
       "          [253.56818  , 253.56818  , 253.56818  ],\n",
       "          [253.45935  , 253.45935  , 253.45935  ],\n",
       "          ...,\n",
       "          [255.       , 255.       , 255.       ],\n",
       "          [237.3645   , 237.3645   , 237.3645   ],\n",
       "          [238.79248  , 238.79248  , 238.79248  ]],\n",
       " \n",
       "         [[238.84955  , 238.84955  , 238.84955  ],\n",
       "          [237.13232  , 237.13232  , 237.13232  ],\n",
       "          [250.17493  , 250.17493  , 250.17493  ],\n",
       "          ...,\n",
       "          [255.       , 255.       , 255.       ],\n",
       "          [254.53644  , 254.53644  , 254.53644  ],\n",
       "          [234.64874  , 234.64874  , 234.64874  ]],\n",
       " \n",
       "         [[242.83685  , 242.83685  , 242.83685  ],\n",
       "          [233.90302  , 233.90302  , 233.90302  ],\n",
       "          [230.2934   , 230.2934   , 230.2934   ],\n",
       "          ...,\n",
       "          [255.       , 255.       , 255.       ],\n",
       "          [254.86243  , 254.86243  , 254.86243  ],\n",
       "          [241.89496  , 241.89496  , 241.89496  ]],\n",
       " \n",
       "         ...,\n",
       " \n",
       "         [[ 51.315247 ,  51.315247 ,  51.315247 ],\n",
       "          [ 44.791443 ,  44.791443 ,  44.791443 ],\n",
       "          [ 41.58972  ,  41.58972  ,  41.58972  ],\n",
       "          ...,\n",
       "          [ 52.884705 ,  52.884705 ,  52.884705 ],\n",
       "          [ 53.15625  ,  53.15625  ,  53.15625  ],\n",
       "          [ 51.42578  ,  51.42578  ,  51.42578  ]],\n",
       " \n",
       "         [[ 55.626343 ,  55.626343 ,  55.626343 ],\n",
       "          [ 56.81848  ,  56.81848  ,  56.81848  ],\n",
       "          [ 53.233948 ,  53.233948 ,  53.233948 ],\n",
       "          ...,\n",
       "          [ 49.77191  ,  49.77191  ,  49.77191  ],\n",
       "          [ 49.0625   ,  49.0625   ,  49.0625   ],\n",
       "          [ 48.30078  ,  48.30078  ,  48.30078  ]],\n",
       " \n",
       "         [[ 46.697266 ,  46.697266 ,  46.697266 ],\n",
       "          [ 49.310547 ,  49.310547 ,  49.310547 ],\n",
       "          [ 49.17267  ,  49.17267  ,  49.17267  ],\n",
       "          ...,\n",
       "          [ 39.77307  ,  39.77307  ,  39.77307  ],\n",
       "          [ 39.501953 ,  39.501953 ,  39.501953 ],\n",
       "          [ 40.2807   ,  40.2807   ,  40.2807   ]]],\n",
       " \n",
       " \n",
       "        [[[153.6464   , 153.6464   , 153.6464   ],\n",
       "          [165.76218  , 165.76218  , 165.76218  ],\n",
       "          [171.31412  , 171.31412  , 171.31412  ],\n",
       "          ...,\n",
       "          [179.28287  , 179.28287  , 179.28287  ],\n",
       "          [168.35968  , 168.35968  , 168.35968  ],\n",
       "          [161.07031  , 161.07031  , 161.07031  ]],\n",
       " \n",
       "         [[141.55905  , 141.55905  , 141.55905  ],\n",
       "          [150.55905  , 150.55905  , 150.55905  ],\n",
       "          [146.20389  , 146.20389  , 146.20389  ],\n",
       "          ...,\n",
       "          [157.19293  , 157.19293  , 157.19293  ],\n",
       "          [164.0069   , 164.0069   , 164.0069   ],\n",
       "          [172.97266  , 172.97266  , 172.97266  ]],\n",
       " \n",
       "         [[134.42654  , 134.42654  , 134.42654  ],\n",
       "          [143.42093  , 143.42093  , 143.42093  ],\n",
       "          [147.68765  , 147.68765  , 147.68765  ],\n",
       "          ...,\n",
       "          [125.86322  , 125.86322  , 125.86322  ],\n",
       "          [125.118805 , 125.118805 , 125.118805 ],\n",
       "          [123.66171  , 123.66171  , 123.66171  ]],\n",
       " \n",
       "         ...,\n",
       " \n",
       "         [[ 15.341431 ,  15.341431 ,  15.341431 ],\n",
       "          [ 23.15625  ,  23.15625  ,  23.15625  ],\n",
       "          [ 18.648315 ,  18.648315 ,  18.648315 ],\n",
       "          ...,\n",
       "          [ 11.378784 ,  11.378784 ,  11.378784 ],\n",
       "          [ 17.18274  ,  17.18274  ,  17.18274  ],\n",
       "          [ 19.695312 ,  19.695312 ,  19.695312 ]],\n",
       " \n",
       "         [[ 19.54718  ,  19.54718  ,  19.54718  ],\n",
       "          [ 22.501831 ,  22.501831 ,  22.501831 ],\n",
       "          [ 17.318695 ,  17.318695 ,  17.318695 ],\n",
       "          ...,\n",
       "          [ 10.572693 ,  10.572693 ,  10.572693 ],\n",
       "          [ 16.803314 ,  16.803314 ,  16.803314 ],\n",
       "          [ 17.410156 ,  17.410156 ,  17.410156 ]],\n",
       " \n",
       "         [[ 15.574219 ,  15.574219 ,  15.574219 ],\n",
       "          [ 16.097351 ,  16.097351 ,  16.097351 ],\n",
       "          [ 11.477356 ,  11.477356 ,  11.477356 ],\n",
       "          ...,\n",
       "          [ 14.628906 ,  14.628906 ,  14.628906 ],\n",
       "          [ 13.894379 ,  13.894379 ,  13.894379 ],\n",
       "          [  9.121094 ,   9.121094 ,   9.121094 ]]],\n",
       " \n",
       " \n",
       "        ...,\n",
       " \n",
       " \n",
       "        [[[178.33961  , 178.33961  , 178.33961  ],\n",
       "          [181.91924  , 181.91924  , 181.91924  ],\n",
       "          [188.47784  , 188.47784  , 188.47784  ],\n",
       "          ...,\n",
       "          [184.76671  , 184.76671  , 184.76671  ],\n",
       "          [170.96188  , 170.96188  , 170.96188  ],\n",
       "          [106.716    , 106.716    , 106.716    ]],\n",
       " \n",
       "         [[174.33963  , 174.33963  , 174.33963  ],\n",
       "          [194.20877  , 194.20877  , 194.20877  ],\n",
       "          [202.22124  , 202.22124  , 202.22124  ],\n",
       "          ...,\n",
       "          [156.41992  , 156.41992  , 156.41992  ],\n",
       "          [122.94531  , 122.94531  , 122.94531  ],\n",
       "          [108.67638  , 108.67638  , 108.67638  ]],\n",
       " \n",
       "         [[109.09833  , 109.09833  , 109.09833  ],\n",
       "          [133.13678  , 133.13678  , 133.13678  ],\n",
       "          [132.75809  , 132.75809  , 132.75809  ],\n",
       "          ...,\n",
       "          [137.51158  , 137.51158  , 137.51158  ],\n",
       "          [139.27693  , 139.27693  , 139.27693  ],\n",
       "          [128.93144  , 128.93144  , 128.93144  ]],\n",
       " \n",
       "         ...,\n",
       " \n",
       "         [[ 65.5363   ,  65.5363   ,  65.5363   ],\n",
       "          [ 74.5625   ,  74.5625   ,  74.5625   ],\n",
       "          [ 84.00586  ,  84.00586  ,  84.00586  ],\n",
       "          ...,\n",
       "          [ 41.62918  ,  41.62918  ,  41.62918  ],\n",
       "          [ 48.975082 ,  48.975082 ,  48.975082 ],\n",
       "          [ 54.853516 ,  54.853516 ,  54.853516 ]],\n",
       " \n",
       "         [[ 67.89453  ,  67.89453  ,  67.89453  ],\n",
       "          [ 72.87479  ,  72.87479  ,  72.87479  ],\n",
       "          [ 76.94821  ,  76.94821  ,  76.94821  ],\n",
       "          ...,\n",
       "          [ 48.033203 ,  48.033203 ,  48.033203 ],\n",
       "          [ 58.050674 ,  58.050674 ,  58.050674 ],\n",
       "          [ 62.061234 ,  62.061234 ,  62.061234 ]],\n",
       " \n",
       "         [[ 66.9568   ,  66.9568   ,  66.9568   ],\n",
       "          [ 67.56825  ,  67.56825  ,  67.56825  ],\n",
       "          [ 63.558258 ,  63.558258 ,  63.558258 ],\n",
       "          ...,\n",
       "          [ 65.04883  ,  65.04883  ,  65.04883  ],\n",
       "          [ 75.15694  ,  75.15694  ,  75.15694  ],\n",
       "          [ 75.8125   ,  75.8125   ,  75.8125   ]]],\n",
       " \n",
       " \n",
       "        [[[  1.3053589,   1.3053589,   1.3053589],\n",
       "          [  5.0551147,   5.0551147,   5.0551147],\n",
       "          [ 33.572876 ,  33.572876 ,  33.572876 ],\n",
       "          ...,\n",
       "          [218.94794  , 218.94794  , 218.94794  ],\n",
       "          [223.4801   , 223.4801   , 223.4801   ],\n",
       "          [232.55756  , 232.55756  , 232.55756  ]],\n",
       " \n",
       "         [[195.85663  , 195.85663  , 195.85663  ],\n",
       "          [  5.1985474,   5.1985474,   5.1985474],\n",
       "          [192.70245  , 192.70245  , 192.70245  ],\n",
       "          ...,\n",
       "          [212.90826  , 212.90826  , 212.90826  ],\n",
       "          [213.99915  , 213.99915  , 213.99915  ],\n",
       "          [222.20428  , 222.20428  , 222.20428  ]],\n",
       " \n",
       "         [[177.92493  , 177.92493  , 177.92493  ],\n",
       "          [ 17.111877 ,  17.111877 ,  17.111877 ],\n",
       "          [ 74.32654  ,  74.32654  ,  74.32654  ],\n",
       "          ...,\n",
       "          [208.93164  , 208.93164  , 208.93164  ],\n",
       "          [209.12885  , 209.12885  , 209.12885  ],\n",
       "          [199.27081  , 199.27081  , 199.27081  ]],\n",
       " \n",
       "         ...,\n",
       " \n",
       "         [[ 65.67511  ,  65.67511  ,  65.67511  ],\n",
       "          [ 60.61725  ,  60.61725  ,  60.61725  ],\n",
       "          [ 60.691406 ,  60.691406 ,  60.691406 ],\n",
       "          ...,\n",
       "          [ 21.118591 ,  21.118591 ,  21.118591 ],\n",
       "          [ 23.097595 ,  23.097595 ,  23.097595 ],\n",
       "          [ 20.907532 ,  20.907532 ,  20.907532 ]],\n",
       " \n",
       "         [[ 47.718323 ,  47.718323 ,  47.718323 ],\n",
       "          [ 58.36847  ,  58.36847  ,  58.36847  ],\n",
       "          [ 55.66571  ,  55.66571  ,  55.66571  ],\n",
       "          ...,\n",
       "          [ 12.529358 ,  12.529358 ,  12.529358 ],\n",
       "          [ 22.625671 ,  22.625671 ,  22.625671 ],\n",
       "          [ 25.819153 ,  25.819153 ,  25.819153 ]],\n",
       " \n",
       "         [[  1.2879028,   1.2879028,   1.2879028],\n",
       "          [  0.7850952,   0.7850952,   0.7850952],\n",
       "          [ 11.66449  ,  11.66449  ,  11.66449  ],\n",
       "          ...,\n",
       "          [  3.625    ,   3.625    ,   3.625    ],\n",
       "          [  4.625    ,   4.625    ,   4.625    ],\n",
       "          [  3.625    ,   3.625    ,   3.625    ]]],\n",
       " \n",
       " \n",
       "        [[[ 57.317207 ,  57.317207 ,  57.317207 ],\n",
       "          [ 35.613125 ,  35.613125 ,  35.613125 ],\n",
       "          [147.37206  , 147.37206  , 147.37206  ],\n",
       "          ...,\n",
       "          [182.41426  , 182.41426  , 182.41426  ],\n",
       "          [186.32242  , 186.32242  , 186.32242  ],\n",
       "          [173.89024  , 173.89024  , 173.89024  ]],\n",
       " \n",
       "         [[  8.625    ,   8.625    ,   8.625    ],\n",
       "          [ 34.445545 ,  34.445545 ,  34.445545 ],\n",
       "          [ 69.86602  ,  69.86602  ,  69.86602  ],\n",
       "          ...,\n",
       "          [155.69286  , 155.69286  , 155.69286  ],\n",
       "          [155.33507  , 155.33507  , 155.33507  ],\n",
       "          [145.65161  , 145.65161  , 145.65161  ]],\n",
       " \n",
       "         [[  6.146679 ,   6.146679 ,   6.146679 ],\n",
       "          [  8.407398 ,   8.407398 ,   8.407398 ],\n",
       "          [ 44.30875  ,  44.30875  ,  44.30875  ],\n",
       "          ...,\n",
       "          [149.55482  , 149.55482  , 149.55482  ],\n",
       "          [145.05627  , 145.05627  , 145.05627  ],\n",
       "          [150.55843  , 150.55843  , 150.55843  ]],\n",
       " \n",
       "         ...,\n",
       " \n",
       "         [[ 20.       ,  20.       ,  20.       ],\n",
       "          [ 20.161747 ,  20.161747 ,  20.161747 ],\n",
       "          [ 21.021484 ,  21.021484 ,  21.021484 ],\n",
       "          ...,\n",
       "          [ 22.80399  ,  22.80399  ,  22.80399  ],\n",
       "          [ 25.54174  ,  25.54174  ,  25.54174  ],\n",
       "          [ 27.597656 ,  27.597656 ,  27.597656 ]],\n",
       " \n",
       "         [[ 18.847584 ,  18.847584 ,  18.847584 ],\n",
       "          [ 20.21289  ,  20.21289  ,  20.21289  ],\n",
       "          [ 22.015987 ,  22.015987 ,  22.015987 ],\n",
       "          ...,\n",
       "          [ 17.55664  ,  17.55664  ,  17.55664  ],\n",
       "          [ 17.663628 ,  17.663628 ,  17.663628 ],\n",
       "          [ 16.7636   ,  16.7636   ,  16.7636   ]],\n",
       " \n",
       "         [[ 18.852238 ,  18.852238 ,  18.852238 ],\n",
       "          [ 20.21289  ,  20.21289  ,  20.21289  ],\n",
       "          [ 21.248047 ,  21.248047 ,  21.248047 ],\n",
       "          ...,\n",
       "          [ 22.757282 ,  22.757282 ,  22.757282 ],\n",
       "          [ 21.124928 ,  21.124928 ,  21.124928 ],\n",
       "          [ 19.008488 ,  19.008488 ,  19.008488 ]]]], dtype=float32),\n",
       " array([2, 0, 2, 2, 1, 1, 2, 0, 2, 0, 0, 2, 0, 1, 0, 2, 0, 0, 0, 0, 0, 1,\n",
       "        0, 0, 1, 2, 1, 1, 0, 0, 1, 0]))"
      ]
     },
     "execution_count": 14,
     "metadata": {},
     "output_type": "execute_result"
    }
   ],
   "source": [
    "batch"
   ]
  },
  {
   "cell_type": "code",
   "execution_count": 15,
   "id": "9e01af85",
   "metadata": {},
   "outputs": [],
   "source": [
    "data = data.map(lambda x,y:(x/255, y))"
   ]
  },
  {
   "cell_type": "code",
   "execution_count": 20,
   "id": "b128d9ae",
   "metadata": {},
   "outputs": [
    {
     "data": {
      "text/plain": [
       "0.0"
      ]
     },
     "execution_count": 20,
     "metadata": {},
     "output_type": "execute_result"
    }
   ],
   "source": [
    "data.as_numpy_iterator().next()[0].min()"
   ]
  },
  {
   "cell_type": "code",
   "execution_count": 25,
   "id": "3cad02a4",
   "metadata": {},
   "outputs": [],
   "source": [
    "train_size = int(len(data) * 0.8)\n",
    "val_size = int(len(data) * 0.2) +1"
   ]
  },
  {
   "cell_type": "code",
   "execution_count": 28,
   "id": "0156fe16",
   "metadata": {},
   "outputs": [
    {
     "data": {
      "text/plain": [
       "22"
      ]
     },
     "execution_count": 28,
     "metadata": {},
     "output_type": "execute_result"
    }
   ],
   "source": [
    "val_size + train_size"
   ]
  },
  {
   "cell_type": "code",
   "execution_count": 27,
   "id": "a2ec15f2",
   "metadata": {},
   "outputs": [
    {
     "data": {
      "text/plain": [
       "22"
      ]
     },
     "execution_count": 27,
     "metadata": {},
     "output_type": "execute_result"
    }
   ],
   "source": [
    "len(data)"
   ]
  },
  {
   "cell_type": "code",
   "execution_count": 29,
   "id": "4423b912",
   "metadata": {},
   "outputs": [],
   "source": [
    "train_data = data.take(train_size)\n",
    "val_data = data.skip(train_size).take(val_size)"
   ]
  },
  {
   "cell_type": "code",
   "execution_count": 30,
   "id": "4203fdfc",
   "metadata": {},
   "outputs": [
    {
     "name": "stdout",
     "output_type": "stream",
     "text": [
      "Found 99 files belonging to 3 classes.\n"
     ]
    }
   ],
   "source": [
    "test_data = utils.image_dataset_from_directory(\"Breast scans test\")"
   ]
  },
  {
   "cell_type": "code",
   "execution_count": 31,
   "id": "53cd530b",
   "metadata": {},
   "outputs": [],
   "source": [
    "test_data = test_data.map(lambda x,y:(x/255, y))"
   ]
  },
  {
   "cell_type": "code",
   "execution_count": 34,
   "id": "3e9882ec",
   "metadata": {},
   "outputs": [],
   "source": [
    "test_data = test_data.take(len(test_data))"
   ]
  },
  {
   "cell_type": "code",
   "execution_count": 35,
   "id": "0ac9e94c",
   "metadata": {},
   "outputs": [
    {
     "data": {
      "text/plain": [
       "tensorflow.python.data.ops.dataset_ops.TakeDataset"
      ]
     },
     "execution_count": 35,
     "metadata": {},
     "output_type": "execute_result"
    }
   ],
   "source": [
    "type(train_data)"
   ]
  },
  {
   "cell_type": "code",
   "execution_count": 36,
   "id": "7f0ab043",
   "metadata": {},
   "outputs": [
    {
     "data": {
      "text/plain": [
       "tensorflow.python.data.ops.dataset_ops.TakeDataset"
      ]
     },
     "execution_count": 36,
     "metadata": {},
     "output_type": "execute_result"
    }
   ],
   "source": [
    "type(test_data)"
   ]
  },
  {
   "cell_type": "code",
   "execution_count": 38,
   "id": "72b8ee46",
   "metadata": {},
   "outputs": [
    {
     "data": {
      "text/plain": [
       "5"
      ]
     },
     "execution_count": 38,
     "metadata": {},
     "output_type": "execute_result"
    }
   ],
   "source": [
    "len(val_data)"
   ]
  },
  {
   "cell_type": "code",
   "execution_count": 39,
   "id": "51a82e17",
   "metadata": {},
   "outputs": [],
   "source": [
    "model = models.Sequential()"
   ]
  },
  {
   "cell_type": "code",
   "execution_count": 40,
   "id": "6e563377",
   "metadata": {},
   "outputs": [],
   "source": [
    "#Layer 1\n",
    "model.add(layers.Conv2D(16, (3,3), 1, activation = \"relu\", input_shape = (256,256,3)))\n",
    "model.add(layers.MaxPooling2D())"
   ]
  },
  {
   "cell_type": "code",
   "execution_count": 41,
   "id": "40a3cba2",
   "metadata": {},
   "outputs": [],
   "source": [
    "#Layer 2\n",
    "model.add(layers.Conv2D(32, (3,3), 1, activation = \"relu\"))\n",
    "model.add(layers.MaxPooling2D())"
   ]
  },
  {
   "cell_type": "code",
   "execution_count": 42,
   "id": "504e9ce7",
   "metadata": {},
   "outputs": [],
   "source": [
    "#Layer 3\n",
    "model.add(layers.Conv2D(16, (3,3), 1, activation = \"relu\"))\n",
    "model.add(layers.MaxPooling2D())"
   ]
  },
  {
   "cell_type": "code",
   "execution_count": 43,
   "id": "621e47de",
   "metadata": {},
   "outputs": [],
   "source": [
    "#Final Layer\n",
    "model.add(layers.Flatten())"
   ]
  },
  {
   "cell_type": "code",
   "execution_count": 45,
   "id": "1e92fe06",
   "metadata": {},
   "outputs": [],
   "source": [
    "#Fully Connected\n",
    "model.add(layers.Dense(256, activation=\"relu\"))\n",
    "model.add(layers.Dense(3, activation=\"softmax\"))"
   ]
  },
  {
   "cell_type": "code",
   "execution_count": 46,
   "id": "b05a9fb5",
   "metadata": {},
   "outputs": [],
   "source": [
    "model.compile(optimizer = \"adam\", loss = \"sparse_categorical_crossentropy\", metrics = [\"accuracy\"])"
   ]
  },
  {
   "cell_type": "code",
   "execution_count": 47,
   "id": "774383c2",
   "metadata": {},
   "outputs": [
    {
     "name": "stdout",
     "output_type": "stream",
     "text": [
      "Model: \"sequential\"\n",
      "_________________________________________________________________\n",
      "Layer (type)                 Output Shape              Param #   \n",
      "=================================================================\n",
      "conv2d (Conv2D)              (None, 254, 254, 16)      448       \n",
      "_________________________________________________________________\n",
      "max_pooling2d (MaxPooling2D) (None, 127, 127, 16)      0         \n",
      "_________________________________________________________________\n",
      "conv2d_1 (Conv2D)            (None, 125, 125, 32)      4640      \n",
      "_________________________________________________________________\n",
      "max_pooling2d_1 (MaxPooling2 (None, 62, 62, 32)        0         \n",
      "_________________________________________________________________\n",
      "conv2d_2 (Conv2D)            (None, 60, 60, 16)        4624      \n",
      "_________________________________________________________________\n",
      "max_pooling2d_2 (MaxPooling2 (None, 30, 30, 16)        0         \n",
      "_________________________________________________________________\n",
      "flatten (Flatten)            (None, 14400)             0         \n",
      "_________________________________________________________________\n",
      "dense (Dense)                (None, 256)               3686656   \n",
      "_________________________________________________________________\n",
      "dense_1 (Dense)              (None, 3)                 771       \n",
      "=================================================================\n",
      "Total params: 3,697,139\n",
      "Trainable params: 3,697,139\n",
      "Non-trainable params: 0\n",
      "_________________________________________________________________\n"
     ]
    }
   ],
   "source": [
    "model.summary()"
   ]
  },
  {
   "cell_type": "code",
   "execution_count": 48,
   "id": "2f80c19d",
   "metadata": {},
   "outputs": [],
   "source": [
    "logdir = 'logs'"
   ]
  },
  {
   "cell_type": "code",
   "execution_count": 49,
   "id": "9e2836c4",
   "metadata": {},
   "outputs": [],
   "source": [
    "tensorboard_callback = tf.keras.callbacks.TensorBoard(log_dir = logdir)"
   ]
  },
  {
   "cell_type": "code",
   "execution_count": 50,
   "id": "c0714eb7",
   "metadata": {},
   "outputs": [
    {
     "data": {
      "text/plain": [
       "True"
      ]
     },
     "execution_count": 50,
     "metadata": {},
     "output_type": "execute_result"
    }
   ],
   "source": [
    "tf.test.is_built_with_cuda()"
   ]
  },
  {
   "cell_type": "code",
   "execution_count": 1,
   "id": "6c109d54",
   "metadata": {},
   "outputs": [
    {
     "ename": "NameError",
     "evalue": "name 'model' is not defined",
     "output_type": "error",
     "traceback": [
      "\u001b[1;31m---------------------------------------------------------------------------\u001b[0m",
      "\u001b[1;31mNameError\u001b[0m                                 Traceback (most recent call last)",
      "\u001b[1;32m<ipython-input-1-998e1355c519>\u001b[0m in \u001b[0;36m<module>\u001b[1;34m\u001b[0m\n\u001b[1;32m----> 1\u001b[1;33m \u001b[0mhist\u001b[0m \u001b[1;33m=\u001b[0m \u001b[0mmodel\u001b[0m\u001b[1;33m.\u001b[0m\u001b[0mfit\u001b[0m\u001b[1;33m(\u001b[0m\u001b[0mtrain_data\u001b[0m\u001b[1;33m,\u001b[0m \u001b[0mepochs\u001b[0m \u001b[1;33m=\u001b[0m \u001b[1;36m20\u001b[0m\u001b[1;33m,\u001b[0m \u001b[0mvalidation_data\u001b[0m \u001b[1;33m=\u001b[0m \u001b[0mval_data\u001b[0m\u001b[1;33m,\u001b[0m \u001b[0mcallbacks\u001b[0m \u001b[1;33m=\u001b[0m \u001b[1;33m[\u001b[0m\u001b[0mtensorboard_callback\u001b[0m\u001b[1;33m]\u001b[0m\u001b[1;33m)\u001b[0m\u001b[1;33m\u001b[0m\u001b[1;33m\u001b[0m\u001b[0m\n\u001b[0m",
      "\u001b[1;31mNameError\u001b[0m: name 'model' is not defined"
     ]
    }
   ],
   "source": [
    "hist = model.fit(train_data, epochs = 20, validation_data = val_data, callbacks = [tensorboard_callback])"
   ]
  },
  {
   "cell_type": "code",
   "execution_count": null,
   "id": "36876464",
   "metadata": {},
   "outputs": [],
   "source": []
  }
 ],
 "metadata": {
  "kernelspec": {
   "display_name": "Python 3",
   "language": "python",
   "name": "python3"
  },
  "language_info": {
   "codemirror_mode": {
    "name": "ipython",
    "version": 3
   },
   "file_extension": ".py",
   "mimetype": "text/x-python",
   "name": "python",
   "nbconvert_exporter": "python",
   "pygments_lexer": "ipython3",
   "version": "3.6.13"
  }
 },
 "nbformat": 4,
 "nbformat_minor": 5
}
